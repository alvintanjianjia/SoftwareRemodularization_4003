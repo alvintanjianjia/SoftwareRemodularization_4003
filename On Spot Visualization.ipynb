{
 "cells": [
  {
   "cell_type": "code",
   "execution_count": 1,
   "metadata": {},
   "outputs": [],
   "source": [
    "import pandas as pd"
   ]
  },
  {
   "cell_type": "code",
   "execution_count": 2,
   "metadata": {},
   "outputs": [],
   "source": [
    "results = pd.read_csv('clustering_result_extremity_mojo_75_ver.csv')"
   ]
  },
  {
   "cell_type": "code",
   "execution_count": 52,
   "metadata": {},
   "outputs": [
    {
     "ename": "NameError",
     "evalue": "name 'results' is not defined",
     "output_type": "error",
     "traceback": [
      "\u001b[1;31m---------------------------------------------------------------------------\u001b[0m",
      "\u001b[1;31mNameError\u001b[0m                                 Traceback (most recent call last)",
      "\u001b[1;32m<ipython-input-52-a6554ab74f44>\u001b[0m in \u001b[0;36m<module>\u001b[1;34m\u001b[0m\n\u001b[1;32m----> 1\u001b[1;33m \u001b[0mresults\u001b[0m\u001b[1;33m.\u001b[0m\u001b[0msort_values\u001b[0m\u001b[1;33m(\u001b[0m\u001b[1;33m[\u001b[0m\u001b[1;34m'extremity'\u001b[0m\u001b[1;33m]\u001b[0m\u001b[1;33m,\u001b[0m \u001b[0mascending\u001b[0m\u001b[1;33m=\u001b[0m\u001b[1;32mFalse\u001b[0m\u001b[1;33m)\u001b[0m\u001b[1;33m.\u001b[0m\u001b[0mhead\u001b[0m\u001b[1;33m(\u001b[0m\u001b[1;33m)\u001b[0m\u001b[1;33m\u001b[0m\u001b[1;33m\u001b[0m\u001b[0m\n\u001b[0m",
      "\u001b[1;31mNameError\u001b[0m: name 'results' is not defined"
     ]
    }
   ],
   "source": [
    "results.sort_values(['extremity'], ascending=False).head()"
   ]
  },
  {
   "cell_type": "code",
   "execution_count": 18,
   "metadata": {},
   "outputs": [],
   "source": [
    "df = pd.read_csv('best_result_agglomerative_75_ver.csv')\n",
    "df = df.sort_values(['mojoFM'], ascending=False)\n",
    "df = df[~df['affinity'].isin(['l1', 'l2'])]"
   ]
  },
  {
   "cell_type": "code",
   "execution_count": 19,
   "metadata": {},
   "outputs": [
    {
     "data": {
      "text/html": [
       "<div>\n",
       "<style scoped>\n",
       "    .dataframe tbody tr th:only-of-type {\n",
       "        vertical-align: middle;\n",
       "    }\n",
       "\n",
       "    .dataframe tbody tr th {\n",
       "        vertical-align: top;\n",
       "    }\n",
       "\n",
       "    .dataframe thead th {\n",
       "        text-align: right;\n",
       "    }\n",
       "</style>\n",
       "<table border=\"1\" class=\"dataframe\">\n",
       "  <thead>\n",
       "    <tr style=\"text-align: right;\">\n",
       "      <th></th>\n",
       "      <th>name</th>\n",
       "      <th>version</th>\n",
       "      <th>n_clusters</th>\n",
       "      <th>affinity</th>\n",
       "      <th>linkage</th>\n",
       "      <th>n_MoJo</th>\n",
       "      <th>mojoFM</th>\n",
       "    </tr>\n",
       "  </thead>\n",
       "  <tbody>\n",
       "    <tr>\n",
       "      <th>1</th>\n",
       "      <td>jenkinsci-jenkins</td>\n",
       "      <td>2.194</td>\n",
       "      <td>50</td>\n",
       "      <td>cosine</td>\n",
       "      <td>single</td>\n",
       "      <td>114</td>\n",
       "      <td>99.020029</td>\n",
       "    </tr>\n",
       "    <tr>\n",
       "      <th>3</th>\n",
       "      <td>hibernate-hibernate-orm</td>\n",
       "      <td>5.3.7</td>\n",
       "      <td>50</td>\n",
       "      <td>manhattan</td>\n",
       "      <td>single</td>\n",
       "      <td>111</td>\n",
       "      <td>98.986301</td>\n",
       "    </tr>\n",
       "    <tr>\n",
       "      <th>6</th>\n",
       "      <td>apache-activemq</td>\n",
       "      <td>5.15.8</td>\n",
       "      <td>50</td>\n",
       "      <td>cosine</td>\n",
       "      <td>single</td>\n",
       "      <td>158</td>\n",
       "      <td>97.054986</td>\n",
       "    </tr>\n",
       "    <tr>\n",
       "      <th>7</th>\n",
       "      <td>activiti-activiti</td>\n",
       "      <td>7.1.83</td>\n",
       "      <td>50</td>\n",
       "      <td>manhattan</td>\n",
       "      <td>single</td>\n",
       "      <td>124</td>\n",
       "      <td>96.985902</td>\n",
       "    </tr>\n",
       "    <tr>\n",
       "      <th>8</th>\n",
       "      <td>hazelcast-hazelcast</td>\n",
       "      <td>3.8.9</td>\n",
       "      <td>50</td>\n",
       "      <td>cosine</td>\n",
       "      <td>single</td>\n",
       "      <td>208</td>\n",
       "      <td>96.749492</td>\n",
       "    </tr>\n",
       "    <tr>\n",
       "      <th>10</th>\n",
       "      <td>airbnb-lottie-android</td>\n",
       "      <td>3.0.0</td>\n",
       "      <td>150</td>\n",
       "      <td>manhattan</td>\n",
       "      <td>complete</td>\n",
       "      <td>34</td>\n",
       "      <td>95.502646</td>\n",
       "    </tr>\n",
       "    <tr>\n",
       "      <th>17</th>\n",
       "      <td>ReactiveX-RxJava</td>\n",
       "      <td>2.2.8</td>\n",
       "      <td>50</td>\n",
       "      <td>cosine</td>\n",
       "      <td>single</td>\n",
       "      <td>110</td>\n",
       "      <td>93.612079</td>\n",
       "    </tr>\n",
       "    <tr>\n",
       "      <th>18</th>\n",
       "      <td>oracle-opengrok</td>\n",
       "      <td>1.3.1</td>\n",
       "      <td>50</td>\n",
       "      <td>cosine</td>\n",
       "      <td>single</td>\n",
       "      <td>105</td>\n",
       "      <td>93.400377</td>\n",
       "    </tr>\n",
       "    <tr>\n",
       "      <th>19</th>\n",
       "      <td>apache-cassandra</td>\n",
       "      <td>3.2</td>\n",
       "      <td>50</td>\n",
       "      <td>euclidean</td>\n",
       "      <td>single</td>\n",
       "      <td>170</td>\n",
       "      <td>92.869128</td>\n",
       "    </tr>\n",
       "    <tr>\n",
       "      <th>20</th>\n",
       "      <td>oblac-jodd</td>\n",
       "      <td>5.0.8</td>\n",
       "      <td>50</td>\n",
       "      <td>cosine</td>\n",
       "      <td>single</td>\n",
       "      <td>177</td>\n",
       "      <td>92.865780</td>\n",
       "    </tr>\n",
       "    <tr>\n",
       "      <th>21</th>\n",
       "      <td>scribejava-scribejava</td>\n",
       "      <td>6.6.2</td>\n",
       "      <td>250</td>\n",
       "      <td>euclidean</td>\n",
       "      <td>complete</td>\n",
       "      <td>23</td>\n",
       "      <td>92.580645</td>\n",
       "    </tr>\n",
       "    <tr>\n",
       "      <th>22</th>\n",
       "      <td>apache-archiva</td>\n",
       "      <td>1.3.9</td>\n",
       "      <td>50</td>\n",
       "      <td>manhattan</td>\n",
       "      <td>single</td>\n",
       "      <td>138</td>\n",
       "      <td>92.430060</td>\n",
       "    </tr>\n",
       "    <tr>\n",
       "      <th>23</th>\n",
       "      <td>jankotek-mapdb</td>\n",
       "      <td>1.0.7</td>\n",
       "      <td>150</td>\n",
       "      <td>manhattan</td>\n",
       "      <td>average</td>\n",
       "      <td>19</td>\n",
       "      <td>92.369478</td>\n",
       "    </tr>\n",
       "    <tr>\n",
       "      <th>24</th>\n",
       "      <td>redisson-redisson</td>\n",
       "      <td>3.7.2</td>\n",
       "      <td>50</td>\n",
       "      <td>cosine</td>\n",
       "      <td>single</td>\n",
       "      <td>111</td>\n",
       "      <td>92.116477</td>\n",
       "    </tr>\n",
       "    <tr>\n",
       "      <th>25</th>\n",
       "      <td>crate-crate</td>\n",
       "      <td>3.3.5</td>\n",
       "      <td>50</td>\n",
       "      <td>cosine</td>\n",
       "      <td>single</td>\n",
       "      <td>230</td>\n",
       "      <td>91.753317</td>\n",
       "    </tr>\n",
       "  </tbody>\n",
       "</table>\n",
       "</div>"
      ],
      "text/plain": [
       "                       name version  n_clusters   affinity   linkage  n_MoJo  \\\n",
       "1         jenkinsci-jenkins   2.194          50     cosine    single     114   \n",
       "3   hibernate-hibernate-orm   5.3.7          50  manhattan    single     111   \n",
       "6           apache-activemq  5.15.8          50     cosine    single     158   \n",
       "7         activiti-activiti  7.1.83          50  manhattan    single     124   \n",
       "8       hazelcast-hazelcast   3.8.9          50     cosine    single     208   \n",
       "10    airbnb-lottie-android   3.0.0         150  manhattan  complete      34   \n",
       "17         ReactiveX-RxJava   2.2.8          50     cosine    single     110   \n",
       "18          oracle-opengrok   1.3.1          50     cosine    single     105   \n",
       "19         apache-cassandra     3.2          50  euclidean    single     170   \n",
       "20               oblac-jodd   5.0.8          50     cosine    single     177   \n",
       "21    scribejava-scribejava   6.6.2         250  euclidean  complete      23   \n",
       "22           apache-archiva   1.3.9          50  manhattan    single     138   \n",
       "23           jankotek-mapdb   1.0.7         150  manhattan   average      19   \n",
       "24        redisson-redisson   3.7.2          50     cosine    single     111   \n",
       "25              crate-crate   3.3.5          50     cosine    single     230   \n",
       "\n",
       "       mojoFM  \n",
       "1   99.020029  \n",
       "3   98.986301  \n",
       "6   97.054986  \n",
       "7   96.985902  \n",
       "8   96.749492  \n",
       "10  95.502646  \n",
       "17  93.612079  \n",
       "18  93.400377  \n",
       "19  92.869128  \n",
       "20  92.865780  \n",
       "21  92.580645  \n",
       "22  92.430060  \n",
       "23  92.369478  \n",
       "24  92.116477  \n",
       "25  91.753317  "
      ]
     },
     "execution_count": 19,
     "metadata": {},
     "output_type": "execute_result"
    }
   ],
   "source": [
    "df.head(15)"
   ]
  },
  {
   "cell_type": "code",
   "execution_count": 15,
   "metadata": {},
   "outputs": [],
   "source": [
    "df.to_csv('best_result_agglomerative_75_ver_without_L1L2.csv')"
   ]
  },
  {
   "cell_type": "code",
   "execution_count": 53,
   "metadata": {},
   "outputs": [
    {
     "ename": "FileNotFoundError",
     "evalue": "[Errno 2] File b'bunch_clustering_result_30_ver.csv' does not exist: b'bunch_clustering_result_30_ver.csv'",
     "output_type": "error",
     "traceback": [
      "\u001b[1;31m---------------------------------------------------------------------------\u001b[0m",
      "\u001b[1;31mFileNotFoundError\u001b[0m                         Traceback (most recent call last)",
      "\u001b[1;32m<ipython-input-53-f5698c829b31>\u001b[0m in \u001b[0;36m<module>\u001b[1;34m\u001b[0m\n\u001b[1;32m----> 1\u001b[1;33m \u001b[0mdf2\u001b[0m \u001b[1;33m=\u001b[0m \u001b[0mpd\u001b[0m\u001b[1;33m.\u001b[0m\u001b[0mread_csv\u001b[0m\u001b[1;33m(\u001b[0m\u001b[1;34m'bunch_clustering_result_30_ver.csv'\u001b[0m\u001b[1;33m)\u001b[0m\u001b[1;33m\u001b[0m\u001b[1;33m\u001b[0m\u001b[0m\n\u001b[0m\u001b[0;32m      2\u001b[0m \u001b[0mdf2\u001b[0m\u001b[1;33m.\u001b[0m\u001b[0msort_values\u001b[0m\u001b[1;33m(\u001b[0m\u001b[1;33m[\u001b[0m\u001b[1;34m'mojoFM'\u001b[0m\u001b[1;33m]\u001b[0m\u001b[1;33m,\u001b[0m \u001b[0mascending\u001b[0m\u001b[1;33m=\u001b[0m\u001b[1;32mFalse\u001b[0m\u001b[1;33m)\u001b[0m\u001b[1;33m.\u001b[0m\u001b[0mhead\u001b[0m\u001b[1;33m(\u001b[0m\u001b[1;33m)\u001b[0m\u001b[1;33m\u001b[0m\u001b[1;33m\u001b[0m\u001b[0m\n",
      "\u001b[1;32mC:\\ProgramData\\Anaconda3\\lib\\site-packages\\pandas\\io\\parsers.py\u001b[0m in \u001b[0;36mparser_f\u001b[1;34m(filepath_or_buffer, sep, delimiter, header, names, index_col, usecols, squeeze, prefix, mangle_dupe_cols, dtype, engine, converters, true_values, false_values, skipinitialspace, skiprows, skipfooter, nrows, na_values, keep_default_na, na_filter, verbose, skip_blank_lines, parse_dates, infer_datetime_format, keep_date_col, date_parser, dayfirst, iterator, chunksize, compression, thousands, decimal, lineterminator, quotechar, quoting, doublequote, escapechar, comment, encoding, dialect, tupleize_cols, error_bad_lines, warn_bad_lines, delim_whitespace, low_memory, memory_map, float_precision)\u001b[0m\n\u001b[0;32m    700\u001b[0m                     skip_blank_lines=skip_blank_lines)\n\u001b[0;32m    701\u001b[0m \u001b[1;33m\u001b[0m\u001b[0m\n\u001b[1;32m--> 702\u001b[1;33m         \u001b[1;32mreturn\u001b[0m \u001b[0m_read\u001b[0m\u001b[1;33m(\u001b[0m\u001b[0mfilepath_or_buffer\u001b[0m\u001b[1;33m,\u001b[0m \u001b[0mkwds\u001b[0m\u001b[1;33m)\u001b[0m\u001b[1;33m\u001b[0m\u001b[1;33m\u001b[0m\u001b[0m\n\u001b[0m\u001b[0;32m    703\u001b[0m \u001b[1;33m\u001b[0m\u001b[0m\n\u001b[0;32m    704\u001b[0m     \u001b[0mparser_f\u001b[0m\u001b[1;33m.\u001b[0m\u001b[0m__name__\u001b[0m \u001b[1;33m=\u001b[0m \u001b[0mname\u001b[0m\u001b[1;33m\u001b[0m\u001b[1;33m\u001b[0m\u001b[0m\n",
      "\u001b[1;32mC:\\ProgramData\\Anaconda3\\lib\\site-packages\\pandas\\io\\parsers.py\u001b[0m in \u001b[0;36m_read\u001b[1;34m(filepath_or_buffer, kwds)\u001b[0m\n\u001b[0;32m    427\u001b[0m \u001b[1;33m\u001b[0m\u001b[0m\n\u001b[0;32m    428\u001b[0m     \u001b[1;31m# Create the parser.\u001b[0m\u001b[1;33m\u001b[0m\u001b[1;33m\u001b[0m\u001b[1;33m\u001b[0m\u001b[0m\n\u001b[1;32m--> 429\u001b[1;33m     \u001b[0mparser\u001b[0m \u001b[1;33m=\u001b[0m \u001b[0mTextFileReader\u001b[0m\u001b[1;33m(\u001b[0m\u001b[0mfilepath_or_buffer\u001b[0m\u001b[1;33m,\u001b[0m \u001b[1;33m**\u001b[0m\u001b[0mkwds\u001b[0m\u001b[1;33m)\u001b[0m\u001b[1;33m\u001b[0m\u001b[1;33m\u001b[0m\u001b[0m\n\u001b[0m\u001b[0;32m    430\u001b[0m \u001b[1;33m\u001b[0m\u001b[0m\n\u001b[0;32m    431\u001b[0m     \u001b[1;32mif\u001b[0m \u001b[0mchunksize\u001b[0m \u001b[1;32mor\u001b[0m \u001b[0miterator\u001b[0m\u001b[1;33m:\u001b[0m\u001b[1;33m\u001b[0m\u001b[1;33m\u001b[0m\u001b[0m\n",
      "\u001b[1;32mC:\\ProgramData\\Anaconda3\\lib\\site-packages\\pandas\\io\\parsers.py\u001b[0m in \u001b[0;36m__init__\u001b[1;34m(self, f, engine, **kwds)\u001b[0m\n\u001b[0;32m    893\u001b[0m             \u001b[0mself\u001b[0m\u001b[1;33m.\u001b[0m\u001b[0moptions\u001b[0m\u001b[1;33m[\u001b[0m\u001b[1;34m'has_index_names'\u001b[0m\u001b[1;33m]\u001b[0m \u001b[1;33m=\u001b[0m \u001b[0mkwds\u001b[0m\u001b[1;33m[\u001b[0m\u001b[1;34m'has_index_names'\u001b[0m\u001b[1;33m]\u001b[0m\u001b[1;33m\u001b[0m\u001b[1;33m\u001b[0m\u001b[0m\n\u001b[0;32m    894\u001b[0m \u001b[1;33m\u001b[0m\u001b[0m\n\u001b[1;32m--> 895\u001b[1;33m         \u001b[0mself\u001b[0m\u001b[1;33m.\u001b[0m\u001b[0m_make_engine\u001b[0m\u001b[1;33m(\u001b[0m\u001b[0mself\u001b[0m\u001b[1;33m.\u001b[0m\u001b[0mengine\u001b[0m\u001b[1;33m)\u001b[0m\u001b[1;33m\u001b[0m\u001b[1;33m\u001b[0m\u001b[0m\n\u001b[0m\u001b[0;32m    896\u001b[0m \u001b[1;33m\u001b[0m\u001b[0m\n\u001b[0;32m    897\u001b[0m     \u001b[1;32mdef\u001b[0m \u001b[0mclose\u001b[0m\u001b[1;33m(\u001b[0m\u001b[0mself\u001b[0m\u001b[1;33m)\u001b[0m\u001b[1;33m:\u001b[0m\u001b[1;33m\u001b[0m\u001b[1;33m\u001b[0m\u001b[0m\n",
      "\u001b[1;32mC:\\ProgramData\\Anaconda3\\lib\\site-packages\\pandas\\io\\parsers.py\u001b[0m in \u001b[0;36m_make_engine\u001b[1;34m(self, engine)\u001b[0m\n\u001b[0;32m   1120\u001b[0m     \u001b[1;32mdef\u001b[0m \u001b[0m_make_engine\u001b[0m\u001b[1;33m(\u001b[0m\u001b[0mself\u001b[0m\u001b[1;33m,\u001b[0m \u001b[0mengine\u001b[0m\u001b[1;33m=\u001b[0m\u001b[1;34m'c'\u001b[0m\u001b[1;33m)\u001b[0m\u001b[1;33m:\u001b[0m\u001b[1;33m\u001b[0m\u001b[1;33m\u001b[0m\u001b[0m\n\u001b[0;32m   1121\u001b[0m         \u001b[1;32mif\u001b[0m \u001b[0mengine\u001b[0m \u001b[1;33m==\u001b[0m \u001b[1;34m'c'\u001b[0m\u001b[1;33m:\u001b[0m\u001b[1;33m\u001b[0m\u001b[1;33m\u001b[0m\u001b[0m\n\u001b[1;32m-> 1122\u001b[1;33m             \u001b[0mself\u001b[0m\u001b[1;33m.\u001b[0m\u001b[0m_engine\u001b[0m \u001b[1;33m=\u001b[0m \u001b[0mCParserWrapper\u001b[0m\u001b[1;33m(\u001b[0m\u001b[0mself\u001b[0m\u001b[1;33m.\u001b[0m\u001b[0mf\u001b[0m\u001b[1;33m,\u001b[0m \u001b[1;33m**\u001b[0m\u001b[0mself\u001b[0m\u001b[1;33m.\u001b[0m\u001b[0moptions\u001b[0m\u001b[1;33m)\u001b[0m\u001b[1;33m\u001b[0m\u001b[1;33m\u001b[0m\u001b[0m\n\u001b[0m\u001b[0;32m   1123\u001b[0m         \u001b[1;32melse\u001b[0m\u001b[1;33m:\u001b[0m\u001b[1;33m\u001b[0m\u001b[1;33m\u001b[0m\u001b[0m\n\u001b[0;32m   1124\u001b[0m             \u001b[1;32mif\u001b[0m \u001b[0mengine\u001b[0m \u001b[1;33m==\u001b[0m \u001b[1;34m'python'\u001b[0m\u001b[1;33m:\u001b[0m\u001b[1;33m\u001b[0m\u001b[1;33m\u001b[0m\u001b[0m\n",
      "\u001b[1;32mC:\\ProgramData\\Anaconda3\\lib\\site-packages\\pandas\\io\\parsers.py\u001b[0m in \u001b[0;36m__init__\u001b[1;34m(self, src, **kwds)\u001b[0m\n\u001b[0;32m   1851\u001b[0m         \u001b[0mkwds\u001b[0m\u001b[1;33m[\u001b[0m\u001b[1;34m'usecols'\u001b[0m\u001b[1;33m]\u001b[0m \u001b[1;33m=\u001b[0m \u001b[0mself\u001b[0m\u001b[1;33m.\u001b[0m\u001b[0musecols\u001b[0m\u001b[1;33m\u001b[0m\u001b[1;33m\u001b[0m\u001b[0m\n\u001b[0;32m   1852\u001b[0m \u001b[1;33m\u001b[0m\u001b[0m\n\u001b[1;32m-> 1853\u001b[1;33m         \u001b[0mself\u001b[0m\u001b[1;33m.\u001b[0m\u001b[0m_reader\u001b[0m \u001b[1;33m=\u001b[0m \u001b[0mparsers\u001b[0m\u001b[1;33m.\u001b[0m\u001b[0mTextReader\u001b[0m\u001b[1;33m(\u001b[0m\u001b[0msrc\u001b[0m\u001b[1;33m,\u001b[0m \u001b[1;33m**\u001b[0m\u001b[0mkwds\u001b[0m\u001b[1;33m)\u001b[0m\u001b[1;33m\u001b[0m\u001b[1;33m\u001b[0m\u001b[0m\n\u001b[0m\u001b[0;32m   1854\u001b[0m         \u001b[0mself\u001b[0m\u001b[1;33m.\u001b[0m\u001b[0munnamed_cols\u001b[0m \u001b[1;33m=\u001b[0m \u001b[0mself\u001b[0m\u001b[1;33m.\u001b[0m\u001b[0m_reader\u001b[0m\u001b[1;33m.\u001b[0m\u001b[0munnamed_cols\u001b[0m\u001b[1;33m\u001b[0m\u001b[1;33m\u001b[0m\u001b[0m\n\u001b[0;32m   1855\u001b[0m \u001b[1;33m\u001b[0m\u001b[0m\n",
      "\u001b[1;32mpandas/_libs/parsers.pyx\u001b[0m in \u001b[0;36mpandas._libs.parsers.TextReader.__cinit__\u001b[1;34m()\u001b[0m\n",
      "\u001b[1;32mpandas/_libs/parsers.pyx\u001b[0m in \u001b[0;36mpandas._libs.parsers.TextReader._setup_parser_source\u001b[1;34m()\u001b[0m\n",
      "\u001b[1;31mFileNotFoundError\u001b[0m: [Errno 2] File b'bunch_clustering_result_30_ver.csv' does not exist: b'bunch_clustering_result_30_ver.csv'"
     ]
    }
   ],
   "source": [
    "df2 = pd.read_csv('bunch_clustering_result_30_ver.csv')\n",
    "df2.sort_values(['mojoFM'], ascending=False).head()"
   ]
  },
  {
   "cell_type": "code",
   "execution_count": 1,
   "metadata": {},
   "outputs": [],
   "source": [
    "import pandas as pd"
   ]
  },
  {
   "cell_type": "code",
   "execution_count": 2,
   "metadata": {},
   "outputs": [],
   "source": [
    "df1 = pd.read_csv('bunch_clustering_result_extremity_mojo_75_ver.csv')\n",
    "df2 = pd.read_csv('agglo_clustering_result_extremity_mojo_75_ver.csv')"
   ]
  },
  {
   "cell_type": "code",
   "execution_count": 3,
   "metadata": {},
   "outputs": [],
   "source": [
    "df1['Instance'] = df1['name'] + df1['version']\n",
    "df2['Instance'] = df2['name'] + df2['version']"
   ]
  },
  {
   "cell_type": "code",
   "execution_count": 4,
   "metadata": {},
   "outputs": [],
   "source": [
    "df2 = df2.merge(df1, on='Instance')"
   ]
  },
  {
   "cell_type": "code",
   "execution_count": 5,
   "metadata": {},
   "outputs": [
    {
     "data": {
      "text/html": [
       "<div>\n",
       "<style scoped>\n",
       "    .dataframe tbody tr th:only-of-type {\n",
       "        vertical-align: middle;\n",
       "    }\n",
       "\n",
       "    .dataframe tbody tr th {\n",
       "        vertical-align: top;\n",
       "    }\n",
       "\n",
       "    .dataframe thead th {\n",
       "        text-align: right;\n",
       "    }\n",
       "</style>\n",
       "<table border=\"1\" class=\"dataframe\">\n",
       "  <thead>\n",
       "    <tr style=\"text-align: right;\">\n",
       "      <th></th>\n",
       "      <th>name_x</th>\n",
       "      <th>version_x</th>\n",
       "      <th>n_clusters</th>\n",
       "      <th>affinity</th>\n",
       "      <th>linkage</th>\n",
       "      <th>n_MoJo_x</th>\n",
       "      <th>mojoFM_x</th>\n",
       "      <th>extremity_x</th>\n",
       "      <th>Instance</th>\n",
       "      <th>name_y</th>\n",
       "      <th>version_y</th>\n",
       "      <th>bunch_algo</th>\n",
       "      <th>n_MoJo_y</th>\n",
       "      <th>mojoFM_y</th>\n",
       "      <th>extremity_y</th>\n",
       "      <th>extremity_ground_truth</th>\n",
       "    </tr>\n",
       "  </thead>\n",
       "  <tbody>\n",
       "    <tr>\n",
       "      <th>0</th>\n",
       "      <td>apache-spark</td>\n",
       "      <td>2.4.3</td>\n",
       "      <td>50</td>\n",
       "      <td>l1</td>\n",
       "      <td>single</td>\n",
       "      <td>107</td>\n",
       "      <td>99.228217</td>\n",
       "      <td>0.00</td>\n",
       "      <td>apache-spark2.4.3</td>\n",
       "      <td>apache-spark</td>\n",
       "      <td>2.4.3</td>\n",
       "      <td>hillclimbing</td>\n",
       "      <td>593</td>\n",
       "      <td>95.722735</td>\n",
       "      <td>0.769231</td>\n",
       "      <td>0.095238</td>\n",
       "    </tr>\n",
       "    <tr>\n",
       "      <th>1</th>\n",
       "      <td>jenkinsci-jenkins</td>\n",
       "      <td>2.194</td>\n",
       "      <td>50</td>\n",
       "      <td>cosine</td>\n",
       "      <td>single</td>\n",
       "      <td>114</td>\n",
       "      <td>99.020029</td>\n",
       "      <td>0.02</td>\n",
       "      <td>jenkinsci-jenkins2.194</td>\n",
       "      <td>jenkinsci-jenkins</td>\n",
       "      <td>2.194</td>\n",
       "      <td>ga</td>\n",
       "      <td>1047</td>\n",
       "      <td>90.999742</td>\n",
       "      <td>0.916667</td>\n",
       "      <td>0.500000</td>\n",
       "    </tr>\n",
       "    <tr>\n",
       "      <th>2</th>\n",
       "      <td>ionic-team-capacitor</td>\n",
       "      <td>0.0.112</td>\n",
       "      <td>50</td>\n",
       "      <td>l2</td>\n",
       "      <td>single</td>\n",
       "      <td>8</td>\n",
       "      <td>99.008674</td>\n",
       "      <td>0.04</td>\n",
       "      <td>ionic-team-capacitor0.0.112</td>\n",
       "      <td>ionic-team-capacitor</td>\n",
       "      <td>0.0.112</td>\n",
       "      <td>hillclimbing</td>\n",
       "      <td>23</td>\n",
       "      <td>97.149938</td>\n",
       "      <td>1.000000</td>\n",
       "      <td>0.600000</td>\n",
       "    </tr>\n",
       "    <tr>\n",
       "      <th>3</th>\n",
       "      <td>hibernate-hibernate-orm</td>\n",
       "      <td>5.3.7</td>\n",
       "      <td>50</td>\n",
       "      <td>manhattan</td>\n",
       "      <td>single</td>\n",
       "      <td>111</td>\n",
       "      <td>98.986301</td>\n",
       "      <td>0.00</td>\n",
       "      <td>hibernate-hibernate-orm5.3.7</td>\n",
       "      <td>hibernate-hibernate-orm</td>\n",
       "      <td>5.3.7</td>\n",
       "      <td>hillclimbing</td>\n",
       "      <td>7953</td>\n",
       "      <td>27.369863</td>\n",
       "      <td>0.726190</td>\n",
       "      <td>0.182456</td>\n",
       "    </tr>\n",
       "    <tr>\n",
       "      <th>4</th>\n",
       "      <td>iSoron-uhabits</td>\n",
       "      <td>1.7.8</td>\n",
       "      <td>300</td>\n",
       "      <td>l1</td>\n",
       "      <td>complete</td>\n",
       "      <td>9</td>\n",
       "      <td>98.604651</td>\n",
       "      <td>0.06</td>\n",
       "      <td>iSoron-uhabits1.7.8</td>\n",
       "      <td>iSoron-uhabits</td>\n",
       "      <td>1.7.8</td>\n",
       "      <td>hillclimbing</td>\n",
       "      <td>212</td>\n",
       "      <td>67.131783</td>\n",
       "      <td>0.800000</td>\n",
       "      <td>0.666667</td>\n",
       "    </tr>\n",
       "  </tbody>\n",
       "</table>\n",
       "</div>"
      ],
      "text/plain": [
       "                    name_x version_x  n_clusters   affinity   linkage  \\\n",
       "0             apache-spark     2.4.3          50         l1    single   \n",
       "1        jenkinsci-jenkins     2.194          50     cosine    single   \n",
       "2     ionic-team-capacitor   0.0.112          50         l2    single   \n",
       "3  hibernate-hibernate-orm     5.3.7          50  manhattan    single   \n",
       "4           iSoron-uhabits     1.7.8         300         l1  complete   \n",
       "\n",
       "   n_MoJo_x   mojoFM_x  extremity_x                      Instance  \\\n",
       "0       107  99.228217         0.00             apache-spark2.4.3   \n",
       "1       114  99.020029         0.02        jenkinsci-jenkins2.194   \n",
       "2         8  99.008674         0.04   ionic-team-capacitor0.0.112   \n",
       "3       111  98.986301         0.00  hibernate-hibernate-orm5.3.7   \n",
       "4         9  98.604651         0.06           iSoron-uhabits1.7.8   \n",
       "\n",
       "                    name_y version_y    bunch_algo  n_MoJo_y   mojoFM_y  \\\n",
       "0             apache-spark     2.4.3  hillclimbing       593  95.722735   \n",
       "1        jenkinsci-jenkins     2.194            ga      1047  90.999742   \n",
       "2     ionic-team-capacitor   0.0.112  hillclimbing        23  97.149938   \n",
       "3  hibernate-hibernate-orm     5.3.7  hillclimbing      7953  27.369863   \n",
       "4           iSoron-uhabits     1.7.8  hillclimbing       212  67.131783   \n",
       "\n",
       "   extremity_y  extremity_ground_truth  \n",
       "0     0.769231                0.095238  \n",
       "1     0.916667                0.500000  \n",
       "2     1.000000                0.600000  \n",
       "3     0.726190                0.182456  \n",
       "4     0.800000                0.666667  "
      ]
     },
     "execution_count": 5,
     "metadata": {},
     "output_type": "execute_result"
    }
   ],
   "source": [
    "df2.head()"
   ]
  },
  {
   "cell_type": "code",
   "execution_count": 7,
   "metadata": {},
   "outputs": [],
   "source": [
    "df2.to_csv('random_test.csv', index=False)"
   ]
  },
  {
   "cell_type": "code",
   "execution_count": 44,
   "metadata": {},
   "outputs": [],
   "source": [
    "import pandas as pd\n",
    "\n",
    "test = pd.read_csv('agglo_clustering_result_75_ver.csv')\n",
    "#test = test.sort_values('mojoFM', ascending=False)\n",
    "test = test.groupby(['name']).size().reset_index()\n",
    "test.columns = ['name', 'count']"
   ]
  },
  {
   "cell_type": "code",
   "execution_count": 45,
   "metadata": {
    "scrolled": true
   },
   "outputs": [
    {
     "data": {
      "text/html": [
       "<div>\n",
       "<style scoped>\n",
       "    .dataframe tbody tr th:only-of-type {\n",
       "        vertical-align: middle;\n",
       "    }\n",
       "\n",
       "    .dataframe tbody tr th {\n",
       "        vertical-align: top;\n",
       "    }\n",
       "\n",
       "    .dataframe thead th {\n",
       "        text-align: right;\n",
       "    }\n",
       "</style>\n",
       "<table border=\"1\" class=\"dataframe\">\n",
       "  <thead>\n",
       "    <tr style=\"text-align: right;\">\n",
       "      <th></th>\n",
       "      <th>name</th>\n",
       "      <th>count</th>\n",
       "    </tr>\n",
       "  </thead>\n",
       "  <tbody>\n",
       "    <tr>\n",
       "      <th>0</th>\n",
       "      <td>JodaOrg-joda-time</td>\n",
       "      <td>10</td>\n",
       "    </tr>\n",
       "    <tr>\n",
       "      <th>1</th>\n",
       "      <td>ReactiveX-RxJava</td>\n",
       "      <td>10</td>\n",
       "    </tr>\n",
       "    <tr>\n",
       "      <th>2</th>\n",
       "      <td>Twitter4J-Twitter4J</td>\n",
       "      <td>3</td>\n",
       "    </tr>\n",
       "    <tr>\n",
       "      <th>3</th>\n",
       "      <td>ZieIony-Carbon</td>\n",
       "      <td>5</td>\n",
       "    </tr>\n",
       "    <tr>\n",
       "      <th>4</th>\n",
       "      <td>activiti-activiti</td>\n",
       "      <td>10</td>\n",
       "    </tr>\n",
       "    <tr>\n",
       "      <th>5</th>\n",
       "      <td>airbnb-lottie-android</td>\n",
       "      <td>10</td>\n",
       "    </tr>\n",
       "    <tr>\n",
       "      <th>6</th>\n",
       "      <td>alibaba-fastjson</td>\n",
       "      <td>10</td>\n",
       "    </tr>\n",
       "    <tr>\n",
       "      <th>7</th>\n",
       "      <td>alibaba-jetcache</td>\n",
       "      <td>10</td>\n",
       "    </tr>\n",
       "    <tr>\n",
       "      <th>8</th>\n",
       "      <td>apache-accumulo</td>\n",
       "      <td>10</td>\n",
       "    </tr>\n",
       "    <tr>\n",
       "      <th>9</th>\n",
       "      <td>apache-activemq</td>\n",
       "      <td>10</td>\n",
       "    </tr>\n",
       "  </tbody>\n",
       "</table>\n",
       "</div>"
      ],
      "text/plain": [
       "                    name  count\n",
       "0      JodaOrg-joda-time     10\n",
       "1       ReactiveX-RxJava     10\n",
       "2    Twitter4J-Twitter4J      3\n",
       "3         ZieIony-Carbon      5\n",
       "4      activiti-activiti     10\n",
       "5  airbnb-lottie-android     10\n",
       "6       alibaba-fastjson     10\n",
       "7       alibaba-jetcache     10\n",
       "8        apache-accumulo     10\n",
       "9        apache-activemq     10"
      ]
     },
     "execution_count": 45,
     "metadata": {},
     "output_type": "execute_result"
    }
   ],
   "source": [
    "test.head(10)"
   ]
  },
  {
   "cell_type": "code",
   "execution_count": 46,
   "metadata": {},
   "outputs": [
    {
     "data": {
      "text/plain": [
       "name     object\n",
       "count     int64\n",
       "dtype: object"
      ]
     },
     "execution_count": 46,
     "metadata": {},
     "output_type": "execute_result"
    }
   ],
   "source": [
    "test.dtypes"
   ]
  },
  {
   "cell_type": "code",
   "execution_count": 49,
   "metadata": {},
   "outputs": [
    {
     "data": {
      "text/html": [
       "<div>\n",
       "<style scoped>\n",
       "    .dataframe tbody tr th:only-of-type {\n",
       "        vertical-align: middle;\n",
       "    }\n",
       "\n",
       "    .dataframe tbody tr th {\n",
       "        vertical-align: top;\n",
       "    }\n",
       "\n",
       "    .dataframe thead th {\n",
       "        text-align: right;\n",
       "    }\n",
       "</style>\n",
       "<table border=\"1\" class=\"dataframe\">\n",
       "  <thead>\n",
       "    <tr style=\"text-align: right;\">\n",
       "      <th></th>\n",
       "      <th>name</th>\n",
       "      <th>count</th>\n",
       "    </tr>\n",
       "  </thead>\n",
       "  <tbody>\n",
       "    <tr>\n",
       "      <th>0</th>\n",
       "      <td>JodaOrg-joda-time</td>\n",
       "      <td>10</td>\n",
       "    </tr>\n",
       "    <tr>\n",
       "      <th>1</th>\n",
       "      <td>ReactiveX-RxJava</td>\n",
       "      <td>10</td>\n",
       "    </tr>\n",
       "    <tr>\n",
       "      <th>4</th>\n",
       "      <td>activiti-activiti</td>\n",
       "      <td>10</td>\n",
       "    </tr>\n",
       "    <tr>\n",
       "      <th>5</th>\n",
       "      <td>airbnb-lottie-android</td>\n",
       "      <td>10</td>\n",
       "    </tr>\n",
       "    <tr>\n",
       "      <th>6</th>\n",
       "      <td>alibaba-fastjson</td>\n",
       "      <td>10</td>\n",
       "    </tr>\n",
       "    <tr>\n",
       "      <th>7</th>\n",
       "      <td>alibaba-jetcache</td>\n",
       "      <td>10</td>\n",
       "    </tr>\n",
       "    <tr>\n",
       "      <th>8</th>\n",
       "      <td>apache-accumulo</td>\n",
       "      <td>10</td>\n",
       "    </tr>\n",
       "    <tr>\n",
       "      <th>9</th>\n",
       "      <td>apache-activemq</td>\n",
       "      <td>10</td>\n",
       "    </tr>\n",
       "    <tr>\n",
       "      <th>11</th>\n",
       "      <td>apache-avro</td>\n",
       "      <td>10</td>\n",
       "    </tr>\n",
       "    <tr>\n",
       "      <th>13</th>\n",
       "      <td>apache-bookkeeper</td>\n",
       "      <td>10</td>\n",
       "    </tr>\n",
       "  </tbody>\n",
       "</table>\n",
       "</div>"
      ],
      "text/plain": [
       "                     name  count\n",
       "0       JodaOrg-joda-time     10\n",
       "1        ReactiveX-RxJava     10\n",
       "4       activiti-activiti     10\n",
       "5   airbnb-lottie-android     10\n",
       "6        alibaba-fastjson     10\n",
       "7        alibaba-jetcache     10\n",
       "8         apache-accumulo     10\n",
       "9         apache-activemq     10\n",
       "11            apache-avro     10\n",
       "13      apache-bookkeeper     10"
      ]
     },
     "execution_count": 49,
     "metadata": {},
     "output_type": "execute_result"
    }
   ],
   "source": [
    "morethan10 = test[test['count'] >= 10]\n",
    "morethan10.head(10)"
   ]
  },
  {
   "cell_type": "code",
   "execution_count": 43,
   "metadata": {},
   "outputs": [
    {
     "name": "stdout",
     "output_type": "stream",
     "text": [
      "75\n"
     ]
    }
   ],
   "source": [
    "print(len(test))"
   ]
  },
  {
   "cell_type": "code",
   "execution_count": 48,
   "metadata": {},
   "outputs": [
    {
     "name": "stdout",
     "output_type": "stream",
     "text": [
      "58\n"
     ]
    }
   ],
   "source": [
    "print(len(morethan10))"
   ]
  },
  {
   "cell_type": "code",
   "execution_count": 54,
   "metadata": {},
   "outputs": [
    {
     "data": {
      "text/plain": [
       "58"
      ]
     },
     "execution_count": 54,
     "metadata": {},
     "output_type": "execute_result"
    }
   ],
   "source": [
    "len(morethan10['name'].sort_values().unique())"
   ]
  },
  {
   "cell_type": "code",
   "execution_count": 58,
   "metadata": {},
   "outputs": [
    {
     "data": {
      "text/plain": [
       "array(['JodaOrg-joda-time', 'ReactiveX-RxJava', 'activiti-activiti',\n",
       "       'airbnb-lottie-android', 'alibaba-fastjson', 'alibaba-jetcache',\n",
       "       'apache-accumulo', 'apache-activemq', 'apache-avro',\n",
       "       'apache-bookkeeper', 'apache-calcite', 'apache-cassandra',\n",
       "       'apache-isis', 'apache-jmeter', 'apache-maven', 'apache-spark',\n",
       "       'apache-storm', 'apache-tika', 'apache-tomcat', 'btraceio-btrace',\n",
       "       'bumptech-glide', 'bytedeco-javacpp', 'crate-crate',\n",
       "       'cryptomator-cryptomator', 'dropwizard-dropwizard',\n",
       "       'dropwizard-metrics', 'facebook-facebook-android-sdk',\n",
       "       'google-error-prone', 'grpc-grpc-java', 'hazelcast-hazelcast',\n",
       "       'hibernate-hibernate-orm', 'iSoron-uhabits',\n",
       "       'immutables-immutables', 'java-native-accessjna',\n",
       "       'javaparser-javaparser', 'jenkinsci-jenkins', 'jhy-jsoup',\n",
       "       'joelittlejohn-jsonschema2pojo', 'knowm-XChange',\n",
       "       'mockito-mockito', 'mrniko-netty-socketio', 'mybatis-mybatis-3',\n",
       "       'naver-pinpoint', 'oblac-jodd', 'oracle-opengrok', 'pmd-pmd',\n",
       "       'quarkusio-quarkus', 'raphw-byte-buddy', 'redisson-redisson',\n",
       "       'robolectric-robolectric', 'rzwitserloot-lombok',\n",
       "       'scribejava-scribejava', 'sofastack-sofa-rpc',\n",
       "       'spring-projects-spring-security', 'springfox-springfox',\n",
       "       'testcontainers-testcontainers-java', 'uber-NullAway',\n",
       "       'web3j-web3j'], dtype=object)"
      ]
     },
     "execution_count": 58,
     "metadata": {},
     "output_type": "execute_result"
    }
   ],
   "source": [
    "morethan10['name'].sort_values().unique()"
   ]
  },
  {
   "cell_type": "code",
   "execution_count": null,
   "metadata": {},
   "outputs": [],
   "source": []
  }
 ],
 "metadata": {
  "kernelspec": {
   "display_name": "Python 3",
   "language": "python",
   "name": "python3"
  },
  "language_info": {
   "codemirror_mode": {
    "name": "ipython",
    "version": 3
   },
   "file_extension": ".py",
   "mimetype": "text/x-python",
   "name": "python",
   "nbconvert_exporter": "python",
   "pygments_lexer": "ipython3",
   "version": "3.7.3"
  }
 },
 "nbformat": 4,
 "nbformat_minor": 2
}
