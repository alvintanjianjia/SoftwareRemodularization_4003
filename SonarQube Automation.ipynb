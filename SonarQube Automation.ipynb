{
 "cells": [
  {
   "cell_type": "code",
   "execution_count": 1,
   "metadata": {},
   "outputs": [],
   "source": [
    "import pandas as pd\n",
    "import numpy as np\n",
    "import os\n",
    "import shutil\n",
    "import subprocess"
   ]
  },
  {
   "cell_type": "code",
   "execution_count": 10,
   "metadata": {},
   "outputs": [
    {
     "name": "stdout",
     "output_type": "stream",
     "text": [
      "raw_sourcecode/apache-jmeter\\apache-jmeter-5.1.1\n",
      "cd C:/Users/tanji/Desktop/FIT4003/raw_sourcecode/apache-jmeter\\apache-jmeter-5.1.1 & C:/Users/tanji/Desktop/sonar-scanner-4.2.0.1873-windows/bin/sonar-scanner.bat\n"
     ]
    }
   ],
   "source": [
    "\n",
    "project_names = ['apache-log4j', 'apache-jmeter']\n",
    "project_names = ['apache-jmeter']\n",
    "\n",
    "for project_name in project_names:\n",
    "\n",
    "    rootdir = 'raw_sourcecode/' + project_name\n",
    "    dir_arr = []\n",
    "    rootdir_arr = []\n",
    "    root_arr = []\n",
    "    depth=1\n",
    "\n",
    "    src_term = 'src'\n",
    "\n",
    "    for root, dirs, files in os.walk(rootdir):\n",
    "        if root.count(os.sep) == depth and project_name in str(root):\n",
    "            print(root)\n",
    "            dir_arr.append(root)\n",
    "\n",
    "    for element in dir_arr:\n",
    "        for root, dirs, files in os.walk(element):\n",
    "            #print(root)\n",
    "            #oot_split = root.split(''\\)\n",
    "            for elem_dir in dirs:\n",
    "\n",
    "                file_last = elem_dir.split('\\\\')[-1]\n",
    "                #print(file_last)\n",
    "                #rint(file_last)\n",
    "                if file_last == 'src':\n",
    "                    replace_str = 'sdf'\n",
    "                    root_tbc = root.replace(element,'')\n",
    "                    root_tbc = root_tbc.replace('\\\\','/')\n",
    "                    root_tbc = root_tbc[1:]\n",
    "                    root_arr.append(root_tbc + '/src')\n",
    "\n",
    "        f = open(element + '/sonar-project.properties', \"w+\")\n",
    "        f.write(\"sonar.projectKey=\" + element + '\\n')\n",
    "        f.write(\"sonar.projectName=\" + element + '\\n')\n",
    "        f.write(\"sonar.projectVersion=1.0\\n\")\n",
    "        f.write('sonar.java.binaries=')\n",
    "        for i in range(len(root_arr)):\n",
    "            if i != len(root_arr) - 1:\n",
    "                f.write(root_arr[i] + ',')\n",
    "            else:\n",
    "                f.write(root_arr[i] + '\\n')\n",
    "        f.write(\"sonar.sourceEncoding=UTF-8\\n\")\n",
    "        f.write(\"sonar.language=java\\n\")\n",
    "        f.close()\n",
    "\n",
    "        command = 'cd C:/Users/tanji/Desktop/FIT4003/' + element + ' & C:/Users/tanji/Desktop/sonar-scanner-4.2.0.1873-windows/bin/sonar-scanner.bat'\n",
    "\n",
    "        print(command)\n",
    "\n",
    "        os.system(command)\n"
   ]
  },
  {
   "cell_type": "code",
   "execution_count": 9,
   "metadata": {},
   "outputs": [
    {
     "data": {
      "text/plain": [
       "['/src',\n",
       " '/licenses/src',\n",
       " '/test/src',\n",
       " '/test_lol/src',\n",
       " '/test_lol2/test_lol/src']"
      ]
     },
     "execution_count": 9,
     "metadata": {},
     "output_type": "execute_result"
    }
   ],
   "source": [
    "root_arr"
   ]
  },
  {
   "cell_type": "code",
   "execution_count": 4,
   "metadata": {},
   "outputs": [],
   "source": [
    "f = open('raw_sourcecode/apache-jmeter/apache-jmeter-5.1.1/sonar-project.properties', \"w+\")\n",
    "\n",
    "f.write(\"sonar.projectKey=test-apachejmeter2\\n\")\n",
    "f.write(\"sonar.projectName=test-apachejmeter2\\n\")\n",
    "f.write(\"sonar.projectVersion=1.0\\n\")\n",
    "f.write('sonar.java.binaries=')\n",
    "for i in range(len(root_arr)):\n",
    "    if i != len(root_arr) - 1:\n",
    "        f.write(root_arr[i] + ',')\n",
    "    else:\n",
    "        f.write(root_arr[i] + '\\n')\n",
    "\n",
    "    \n",
    "    \n",
    "f.write(\"sonar.sourceEncoding=UTF-8\\n\")\n",
    "f.write(\"sonar.language=java\\n\")\n",
    "\n",
    "\n",
    "\n",
    "\n",
    "f.close()"
   ]
  },
  {
   "cell_type": "raw",
   "metadata": {},
   "source": []
  },
  {
   "cell_type": "code",
   "execution_count": 130,
   "metadata": {
    "collapsed": true
   },
   "outputs": [
    {
     "name": "stdout",
     "output_type": "stream",
     "text": [
      "cd C:/Users/tanji/Desktop/FIT4003/raw_sourcecode/apache-jmeter\\apache-jmeter-5.1.1 & C:/Users/tanji/Desktop/sonar-scanner-4.2.0.1873-windows/bin/sonar-scanner.bat\n"
     ]
    }
   ],
   "source": [
    "command = 'cd C:/Users/tanji/Desktop/FIT4003/' + element + ' & C:/Users/tanji/Desktop/sonar-scanner-4.2.0.1873-windows/bin/sonar-scanner.bat'\n",
    "\n",
    "print(command)\n",
    "\n",
    "#os.system(command)"
   ]
  },
  {
   "cell_type": "code",
   "execution_count": null,
   "metadata": {},
   "outputs": [],
   "source": [
    "C:\\Users\\tanji\\Desktop\\sonar-scanner-4.2.0.1873-windows\\bin\\sonar-scanner.bat"
   ]
  }
 ],
 "metadata": {
  "kernelspec": {
   "display_name": "Python 3",
   "language": "python",
   "name": "python3"
  },
  "language_info": {
   "codemirror_mode": {
    "name": "ipython",
    "version": 3
   },
   "file_extension": ".py",
   "mimetype": "text/x-python",
   "name": "python",
   "nbconvert_exporter": "python",
   "pygments_lexer": "ipython3",
   "version": "3.7.3"
  }
 },
 "nbformat": 4,
 "nbformat_minor": 2
}
