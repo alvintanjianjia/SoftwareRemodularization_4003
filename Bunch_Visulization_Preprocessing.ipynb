{
 "cells": [
  {
   "cell_type": "code",
   "execution_count": 1,
   "metadata": {},
   "outputs": [],
   "source": [
    "import pandas as pd"
   ]
  },
  {
   "cell_type": "code",
   "execution_count": 6,
   "metadata": {},
   "outputs": [],
   "source": [
    "final_clustering_result = pd.read_csv('bunch_clustering_result_extremity_mojo_75_ver.csv')\n",
    "ck_sum_df = pd.read_csv('ck_sum_75_ver.csv')\n",
    "ck_max_df = pd.read_csv('ck_max_75_ver.csv')\n",
    "ck_std_df = pd.read_csv('ck_std_75_ver.csv')\n",
    "ck_mean_df = pd.read_csv('ck_mean_75_ver.csv')\n"
   ]
  },
  {
   "cell_type": "code",
   "execution_count": 7,
   "metadata": {},
   "outputs": [],
   "source": [
    "final_clustering_result['Instance'] = final_clustering_result['name'] + '_' + final_clustering_result['version']"
   ]
  },
  {
   "cell_type": "code",
   "execution_count": 4,
   "metadata": {},
   "outputs": [],
   "source": [
    "ck_sum_df['Instance'] = ck_sum_df['project_name'] + '_' + ck_sum_df['version']\n",
    "ck_max_df['Instance'] = ck_max_df['project_name'] + '_' + ck_max_df['version']\n",
    "\n",
    "#ck_sum_df.head()\n",
    "\n",
    "temp1 = ck_sum_df.merge(ck_max_df, on='Instance', suffixes=('_sum', '_max') )\n",
    "\n",
    "ck_std_df['Instance'] = ck_std_df['project_name'] + '_' + ck_std_df['version']\n",
    "ck_mean_df['Instance'] = ck_mean_df['project_name'] + '_' + ck_mean_df['version']\n",
    "\n",
    "#ck_std_df.head()\n",
    "\n",
    "temp2 = ck_sum_df.merge(ck_max_df, on='Instance', suffixes=('_std', '_mean') )\n",
    "\n",
    "temp1 = temp1.merge(temp2, on='Instance')\n",
    "final_clustering_result = final_clustering_result.merge(temp1, on='Instance')"
   ]
  },
  {
   "cell_type": "code",
   "execution_count": 8,
   "metadata": {},
   "outputs": [
    {
     "data": {
      "text/html": [
       "<div>\n",
       "<style scoped>\n",
       "    .dataframe tbody tr th:only-of-type {\n",
       "        vertical-align: middle;\n",
       "    }\n",
       "\n",
       "    .dataframe tbody tr th {\n",
       "        vertical-align: top;\n",
       "    }\n",
       "\n",
       "    .dataframe thead th {\n",
       "        text-align: right;\n",
       "    }\n",
       "</style>\n",
       "<table border=\"1\" class=\"dataframe\">\n",
       "  <thead>\n",
       "    <tr style=\"text-align: right;\">\n",
       "      <th></th>\n",
       "      <th>name</th>\n",
       "      <th>version</th>\n",
       "      <th>bunch_algo</th>\n",
       "      <th>n_MoJo</th>\n",
       "      <th>mojoFM</th>\n",
       "      <th>extremity</th>\n",
       "      <th>extremity_ground_truth</th>\n",
       "      <th>Instance</th>\n",
       "    </tr>\n",
       "  </thead>\n",
       "  <tbody>\n",
       "    <tr>\n",
       "      <th>0</th>\n",
       "      <td>apache-storm</td>\n",
       "      <td>1.1.0</td>\n",
       "      <td>ga</td>\n",
       "      <td>1632</td>\n",
       "      <td>20.583942</td>\n",
       "      <td>0.166667</td>\n",
       "      <td>0.003819</td>\n",
       "      <td>apache-storm_1.1.0</td>\n",
       "    </tr>\n",
       "    <tr>\n",
       "      <th>1</th>\n",
       "      <td>apache-storm</td>\n",
       "      <td>1.1.1</td>\n",
       "      <td>hillclimbing</td>\n",
       "      <td>1693</td>\n",
       "      <td>17.615572</td>\n",
       "      <td>0.791667</td>\n",
       "      <td>0.009393</td>\n",
       "      <td>apache-storm_1.1.1</td>\n",
       "    </tr>\n",
       "    <tr>\n",
       "      <th>2</th>\n",
       "      <td>apache-storm</td>\n",
       "      <td>1.1.2</td>\n",
       "      <td>hillclimbing</td>\n",
       "      <td>1224</td>\n",
       "      <td>40.437956</td>\n",
       "      <td>0.692308</td>\n",
       "      <td>0.016461</td>\n",
       "      <td>apache-storm_1.1.2</td>\n",
       "    </tr>\n",
       "    <tr>\n",
       "      <th>3</th>\n",
       "      <td>apache-storm</td>\n",
       "      <td>1.1.3</td>\n",
       "      <td>ga</td>\n",
       "      <td>1290</td>\n",
       "      <td>37.226277</td>\n",
       "      <td>0.333333</td>\n",
       "      <td>0.010352</td>\n",
       "      <td>apache-storm_1.1.3</td>\n",
       "    </tr>\n",
       "    <tr>\n",
       "      <th>4</th>\n",
       "      <td>apache-storm</td>\n",
       "      <td>1.1.4</td>\n",
       "      <td>ga</td>\n",
       "      <td>1495</td>\n",
       "      <td>27.250608</td>\n",
       "      <td>0.868852</td>\n",
       "      <td>0.105860</td>\n",
       "      <td>apache-storm_1.1.4</td>\n",
       "    </tr>\n",
       "  </tbody>\n",
       "</table>\n",
       "</div>"
      ],
      "text/plain": [
       "           name version    bunch_algo  n_MoJo     mojoFM  extremity  \\\n",
       "0  apache-storm   1.1.0            ga    1632  20.583942   0.166667   \n",
       "1  apache-storm   1.1.1  hillclimbing    1693  17.615572   0.791667   \n",
       "2  apache-storm   1.1.2  hillclimbing    1224  40.437956   0.692308   \n",
       "3  apache-storm   1.1.3            ga    1290  37.226277   0.333333   \n",
       "4  apache-storm   1.1.4            ga    1495  27.250608   0.868852   \n",
       "\n",
       "   extremity_ground_truth            Instance  \n",
       "0                0.003819  apache-storm_1.1.0  \n",
       "1                0.009393  apache-storm_1.1.1  \n",
       "2                0.016461  apache-storm_1.1.2  \n",
       "3                0.010352  apache-storm_1.1.3  \n",
       "4                0.105860  apache-storm_1.1.4  "
      ]
     },
     "execution_count": 8,
     "metadata": {},
     "output_type": "execute_result"
    }
   ],
   "source": [
    "final_clustering_result.head()"
   ]
  },
  {
   "cell_type": "code",
   "execution_count": null,
   "metadata": {},
   "outputs": [],
   "source": [
    "columns_to_avoid = ['name', 'version', 'n_clusters', 'affinity', 'linkage', 'n_MoJo', 'mojoFM']\n",
    "total_cancer = []\n",
    "for element in final_clustering_result.columns:\n",
    "    #print(element)\n",
    "    for cancer in columns_to_avoid:\n",
    "        print(cancer)\n",
    "        if cancer in element:\n",
    "            total_cancer.append(element)\n",
    "            \n",
    "total_cancer"
   ]
  },
  {
   "cell_type": "code",
   "execution_count": null,
   "metadata": {},
   "outputs": [],
   "source": []
  }
 ],
 "metadata": {
  "kernelspec": {
   "display_name": "Python 3",
   "language": "python",
   "name": "python3"
  },
  "language_info": {
   "codemirror_mode": {
    "name": "ipython",
    "version": 3
   },
   "file_extension": ".py",
   "mimetype": "text/x-python",
   "name": "python",
   "nbconvert_exporter": "python",
   "pygments_lexer": "ipython3",
   "version": "3.7.3"
  }
 },
 "nbformat": 4,
 "nbformat_minor": 2
}
