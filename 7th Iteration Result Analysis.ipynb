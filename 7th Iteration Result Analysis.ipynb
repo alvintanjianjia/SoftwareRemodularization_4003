{
 "cells": [
  {
   "cell_type": "code",
   "execution_count": 8,
   "metadata": {},
   "outputs": [],
   "source": [
    "import pandas as pd"
   ]
  },
  {
   "cell_type": "code",
   "execution_count": 9,
   "metadata": {},
   "outputs": [],
   "source": [
    "results = pd.read_csv('full_clustering_result_75_ver.csv')"
   ]
  },
  {
   "cell_type": "code",
   "execution_count": 10,
   "metadata": {},
   "outputs": [
    {
     "data": {
      "text/html": [
       "<div>\n",
       "<style scoped>\n",
       "    .dataframe tbody tr th:only-of-type {\n",
       "        vertical-align: middle;\n",
       "    }\n",
       "\n",
       "    .dataframe tbody tr th {\n",
       "        vertical-align: top;\n",
       "    }\n",
       "\n",
       "    .dataframe thead th {\n",
       "        text-align: right;\n",
       "    }\n",
       "</style>\n",
       "<table border=\"1\" class=\"dataframe\">\n",
       "  <thead>\n",
       "    <tr style=\"text-align: right;\">\n",
       "      <th></th>\n",
       "      <th>name</th>\n",
       "      <th>version</th>\n",
       "      <th>n_clusters</th>\n",
       "      <th>affinity</th>\n",
       "      <th>linkage</th>\n",
       "      <th>n_MoJo</th>\n",
       "      <th>mojoFM</th>\n",
       "    </tr>\n",
       "  </thead>\n",
       "  <tbody>\n",
       "    <tr>\n",
       "      <th>0</th>\n",
       "      <td>apache-storm</td>\n",
       "      <td>1.1.0</td>\n",
       "      <td>50</td>\n",
       "      <td>euclidean</td>\n",
       "      <td>complete</td>\n",
       "      <td>1600</td>\n",
       "      <td>22.141119</td>\n",
       "    </tr>\n",
       "    <tr>\n",
       "      <th>1</th>\n",
       "      <td>apache-storm</td>\n",
       "      <td>1.1.0</td>\n",
       "      <td>50</td>\n",
       "      <td>euclidean</td>\n",
       "      <td>average</td>\n",
       "      <td>1622</td>\n",
       "      <td>21.070560</td>\n",
       "    </tr>\n",
       "    <tr>\n",
       "      <th>2</th>\n",
       "      <td>apache-storm</td>\n",
       "      <td>1.1.0</td>\n",
       "      <td>50</td>\n",
       "      <td>euclidean</td>\n",
       "      <td>single</td>\n",
       "      <td>1571</td>\n",
       "      <td>23.552311</td>\n",
       "    </tr>\n",
       "    <tr>\n",
       "      <th>3</th>\n",
       "      <td>apache-storm</td>\n",
       "      <td>1.1.0</td>\n",
       "      <td>50</td>\n",
       "      <td>l1</td>\n",
       "      <td>complete</td>\n",
       "      <td>1611</td>\n",
       "      <td>21.605839</td>\n",
       "    </tr>\n",
       "    <tr>\n",
       "      <th>4</th>\n",
       "      <td>apache-storm</td>\n",
       "      <td>1.1.0</td>\n",
       "      <td>50</td>\n",
       "      <td>l1</td>\n",
       "      <td>average</td>\n",
       "      <td>1606</td>\n",
       "      <td>21.849148</td>\n",
       "    </tr>\n",
       "  </tbody>\n",
       "</table>\n",
       "</div>"
      ],
      "text/plain": [
       "           name version  n_clusters   affinity   linkage  n_MoJo     mojoFM\n",
       "0  apache-storm   1.1.0          50  euclidean  complete    1600  22.141119\n",
       "1  apache-storm   1.1.0          50  euclidean   average    1622  21.070560\n",
       "2  apache-storm   1.1.0          50  euclidean    single    1571  23.552311\n",
       "3  apache-storm   1.1.0          50         l1  complete    1611  21.605839\n",
       "4  apache-storm   1.1.0          50         l1   average    1606  21.849148"
      ]
     },
     "execution_count": 10,
     "metadata": {},
     "output_type": "execute_result"
    }
   ],
   "source": [
    "results.head()"
   ]
  },
  {
   "cell_type": "code",
   "execution_count": 12,
   "metadata": {},
   "outputs": [],
   "source": [
    "best_results = results.sort_values('mojoFM', ascending = False).groupby(['name']).head(1)"
   ]
  },
  {
   "cell_type": "code",
   "execution_count": 13,
   "metadata": {},
   "outputs": [
    {
     "data": {
      "text/html": [
       "<div>\n",
       "<style scoped>\n",
       "    .dataframe tbody tr th:only-of-type {\n",
       "        vertical-align: middle;\n",
       "    }\n",
       "\n",
       "    .dataframe tbody tr th {\n",
       "        vertical-align: top;\n",
       "    }\n",
       "\n",
       "    .dataframe thead th {\n",
       "        text-align: right;\n",
       "    }\n",
       "</style>\n",
       "<table border=\"1\" class=\"dataframe\">\n",
       "  <thead>\n",
       "    <tr style=\"text-align: right;\">\n",
       "      <th></th>\n",
       "      <th>name</th>\n",
       "      <th>version</th>\n",
       "      <th>n_clusters</th>\n",
       "      <th>affinity</th>\n",
       "      <th>linkage</th>\n",
       "      <th>n_MoJo</th>\n",
       "      <th>mojoFM</th>\n",
       "    </tr>\n",
       "  </thead>\n",
       "  <tbody>\n",
       "    <tr>\n",
       "      <th>6005</th>\n",
       "      <td>apache-spark</td>\n",
       "      <td>2.4.3</td>\n",
       "      <td>50</td>\n",
       "      <td>l1</td>\n",
       "      <td>single</td>\n",
       "      <td>107</td>\n",
       "      <td>99.228217</td>\n",
       "    </tr>\n",
       "    <tr>\n",
       "      <th>18119</th>\n",
       "      <td>jenkinsci-jenkins</td>\n",
       "      <td>2.194</td>\n",
       "      <td>50</td>\n",
       "      <td>cosine</td>\n",
       "      <td>single</td>\n",
       "      <td>114</td>\n",
       "      <td>99.020029</td>\n",
       "    </tr>\n",
       "    <tr>\n",
       "      <th>45863</th>\n",
       "      <td>ionic-team-capacitor</td>\n",
       "      <td>0.0.112</td>\n",
       "      <td>50</td>\n",
       "      <td>l2</td>\n",
       "      <td>single</td>\n",
       "      <td>8</td>\n",
       "      <td>99.008674</td>\n",
       "    </tr>\n",
       "    <tr>\n",
       "      <th>31541</th>\n",
       "      <td>hibernate-hibernate-orm</td>\n",
       "      <td>5.3.7</td>\n",
       "      <td>50</td>\n",
       "      <td>manhattan</td>\n",
       "      <td>single</td>\n",
       "      <td>111</td>\n",
       "      <td>98.986301</td>\n",
       "    </tr>\n",
       "    <tr>\n",
       "      <th>40923</th>\n",
       "      <td>iSoron-uhabits</td>\n",
       "      <td>1.7.8</td>\n",
       "      <td>300</td>\n",
       "      <td>l1</td>\n",
       "      <td>complete</td>\n",
       "      <td>9</td>\n",
       "      <td>98.604651</td>\n",
       "    </tr>\n",
       "  </tbody>\n",
       "</table>\n",
       "</div>"
      ],
      "text/plain": [
       "                          name  version  n_clusters   affinity   linkage  \\\n",
       "6005              apache-spark    2.4.3          50         l1    single   \n",
       "18119        jenkinsci-jenkins    2.194          50     cosine    single   \n",
       "45863     ionic-team-capacitor  0.0.112          50         l2    single   \n",
       "31541  hibernate-hibernate-orm    5.3.7          50  manhattan    single   \n",
       "40923           iSoron-uhabits    1.7.8         300         l1  complete   \n",
       "\n",
       "       n_MoJo     mojoFM  \n",
       "6005      107  99.228217  \n",
       "18119     114  99.020029  \n",
       "45863       8  99.008674  \n",
       "31541     111  98.986301  \n",
       "40923       9  98.604651  "
      ]
     },
     "execution_count": 13,
     "metadata": {},
     "output_type": "execute_result"
    }
   ],
   "source": [
    "best_results.head()"
   ]
  },
  {
   "cell_type": "code",
   "execution_count": 14,
   "metadata": {},
   "outputs": [
    {
     "data": {
      "text/plain": [
       "75"
      ]
     },
     "execution_count": 14,
     "metadata": {},
     "output_type": "execute_result"
    }
   ],
   "source": [
    "len(best_results)"
   ]
  },
  {
   "cell_type": "code",
   "execution_count": 16,
   "metadata": {},
   "outputs": [],
   "source": [
    "best_results.to_csv('best_result_agglomerative_75_ver.csv', index=False)"
   ]
  },
  {
   "cell_type": "code",
   "execution_count": null,
   "metadata": {},
   "outputs": [],
   "source": []
  }
 ],
 "metadata": {
  "kernelspec": {
   "display_name": "Python 3",
   "language": "python",
   "name": "python3"
  },
  "language_info": {
   "codemirror_mode": {
    "name": "ipython",
    "version": 3
   },
   "file_extension": ".py",
   "mimetype": "text/x-python",
   "name": "python",
   "nbconvert_exporter": "python",
   "pygments_lexer": "ipython3",
   "version": "3.7.3"
  }
 },
 "nbformat": 4,
 "nbformat_minor": 2
}
