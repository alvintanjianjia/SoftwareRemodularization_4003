{
 "cells": [
  {
   "cell_type": "code",
   "execution_count": 2,
   "metadata": {},
   "outputs": [],
   "source": [
    "import json\n",
    "import pandas as pd\n",
    "import numpy as np\n",
    "import networkx as nx\n",
    "import jellyfish\n",
    "import os\n",
    "import shutil\n",
    "import subprocess\n",
    "from scipy.cluster.hierarchy import dendrogram, linkage\n",
    "from matplotlib import pyplot as plt\n",
    "from sklearn.feature_extraction.text import TfidfVectorizer\n",
    "from sklearn.cluster import KMeans\n",
    "from sklearn.metrics import adjusted_rand_score\n",
    "from sklearn import preprocessing\n",
    "from sklearn.cluster import AgglomerativeClustering\n",
    "from zipfile import ZipFile\n",
    "from filecmp import dircmp\n",
    "\n",
    "project_name = 'apache-isis'\n",
    "rootdir = 'raw_depends/' + project_name\n",
    "json_name_dict = {}\n",
    "json_result_dict = {}\n",
    "for root, dirs, files in os.walk(rootdir):\n",
    "   \n",
    "    #print(files)\n",
    "    for element in files:\n",
    "        \n",
    "        with open(rootdir + '/' + element) as f:\n",
    "            tmp = json.load(f)\n",
    "        \n",
    "        element = element.split('_')\n",
    "        json_name_dict[element[0]] = element[1]\n",
    "        json_result_dict[element[0]] = tmp"
   ]
  },
  {
   "cell_type": "code",
   "execution_count": 4,
   "metadata": {},
   "outputs": [
    {
     "data": {
      "text/plain": [
       "{'0': 'apache-isis-1.10.0.json',\n",
       " '10': 'apache-isis-1.15.0.json',\n",
       " '11': 'apache-isis-1.15.1.json',\n",
       " '12': 'apache-isis-1.16.0.json',\n",
       " '13': 'apache-isis-1.16.1.json',\n",
       " '14': 'apache-isis-1.16.2.json',\n",
       " '15': 'apache-isis-1.17.0.json',\n",
       " '16': 'apache-isis-1.6.0.json',\n",
       " '17': 'apache-isis-1.7.0.json',\n",
       " '18': 'apache-isis-1.8.0.json',\n",
       " '19': 'apache-isis-1.9.0.json',\n",
       " '1': 'apache-isis-1.11.0.json',\n",
       " '20': 'apache-isis-2.0.0.json',\n",
       " '2': 'apache-isis-1.11.1.json',\n",
       " '3': 'apache-isis-1.12.0.json',\n",
       " '4': 'apache-isis-1.12.1.json',\n",
       " '5': 'apache-isis-1.12.2.json',\n",
       " '6': 'apache-isis-1.13.0.json',\n",
       " '7': 'apache-isis-1.13.1.json',\n",
       " '8': 'apache-isis-1.13.2.json',\n",
       " '9': 'apache-isis-1.14.0.json'}"
      ]
     },
     "execution_count": 4,
     "metadata": {},
     "output_type": "execute_result"
    }
   ],
   "source": [
    "json_name_dict"
   ]
  },
  {
   "cell_type": "code",
   "execution_count": 4,
   "metadata": {},
   "outputs": [],
   "source": [
    "def common_member(a,b):\n",
    "    a_set = set(a)\n",
    "    b_set = set(b)\n",
    "    if len(a_set.intersection(b_set)) > 0:\n",
    "        return(a_set.intersection(b_set))\n",
    "    else:\n",
    "        return set()\n",
    "\n",
    "def compare_similar(right, left):\n",
    "    difference = list();\n",
    "    for root, dirs, files in os.walk(right):\n",
    "        for name in files:\n",
    "            path = os.path.join(root, name);\n",
    "            # check if file is same\n",
    "            if fileIsSame(right, left, path):\n",
    "                \n",
    "                if os.path.isdir(path):\n",
    "                    # recursively check subdirs\n",
    "                    difference.extend(compare_similar(path, left));\n",
    "                difference.append(path)\n",
    "                \n",
    "            #else:\n",
    "                # count file as difference\n",
    "                #difference.append(path);\n",
    "\n",
    "    return difference;\n",
    "\n",
    "def fileIsSame(right, left, path):\n",
    "    return os.path.exists (os.path.join(left, path.replace(right, '')));\n",
    "\n",
    "ground_truth_dict = {}\n",
    "max_len_tmp = 0\n",
    "root_dir = 'raw_sourcecode/' + project_name + '/'\n",
    "for i in range(10,20):\n",
    "    file1 = str(root_dir +json_name_dict[str(i)]).replace('.json', '') + '/'\n",
    "    for j in range(1,11):\n",
    "        file2 = str(root_dir + json_name_dict[str(i-j)]).replace('.json', '') + '/'\n",
    "        \n",
    "        #test = compare_similar()\n",
    "        #print(file1, file2)\n",
    "        if (j == 1):\n",
    "            prev_tmp = compare_similar(file1, file2)\n",
    "        else:\n",
    "            tmp = compare_similar(file1, file2)\n",
    "            tmp = common_member(prev_tmp, tmp)\n",
    "            #print(len(tmp))\n",
    "            prev_tmp = tmp\n",
    "            \n",
    "    if len(prev_tmp) > max_len_tmp:\n",
    "        max_len_tmp = len(prev_tmp)\n",
    "    #print(len(prev_tmp))\n",
    "    ground_truth_dict[str(i)] = prev_tmp"
   ]
  },
  {
   "cell_type": "code",
   "execution_count": 10,
   "metadata": {},
   "outputs": [
    {
     "data": {
      "text/plain": [
       "10"
      ]
     },
     "execution_count": 10,
     "metadata": {},
     "output_type": "execute_result"
    }
   ],
   "source": [
    "len(ground_truth_dict)"
   ]
  },
  {
   "cell_type": "code",
   "execution_count": 16,
   "metadata": {},
   "outputs": [
    {
     "name": "stdout",
     "output_type": "stream",
     "text": [
      "apache-isis-1.15.0\n",
      "apache-isis-1.15.1\n",
      "apache-isis-1.16.0\n",
      "apache-isis-1.16.1\n",
      "apache-isis-1.16.2\n",
      "apache-isis-1.17.0\n",
      "apache-isis-1.6.0\n",
      "apache-isis-1.7.0\n",
      "apache-isis-1.8.0\n",
      "apache-isis-1.9.0\n"
     ]
    }
   ],
   "source": [
    "for i in range(10):\n",
    "    print(json_name_dict[str(i+10)].split('.json')[0])"
   ]
  },
  {
   "cell_type": "code",
   "execution_count": 14,
   "metadata": {},
   "outputs": [
    {
     "name": "stdout",
     "output_type": "stream",
     "text": [
      "apache-isis-1.10.0\n",
      "apache-isis-1.11.0\n",
      "apache-isis-1.11.1\n",
      "apache-isis-1.12.0\n",
      "apache-isis-1.12.1\n",
      "apache-isis-1.12.2\n",
      "apache-isis-1.13.0\n",
      "apache-isis-1.13.1\n",
      "apache-isis-1.13.2\n",
      "apache-isis-1.14.0\n",
      "apache-isis-1.15.0\n",
      "apache-isis-1.15.1\n",
      "apache-isis-1.16.0\n",
      "apache-isis-1.16.1\n",
      "apache-isis-1.16.2\n",
      "apache-isis-1.17.0\n",
      "apache-isis-1.6.0\n",
      "apache-isis-1.7.0\n",
      "apache-isis-1.8.0\n",
      "apache-isis-1.9.0\n",
      "apache-isis-2.0.0\n"
     ]
    }
   ],
   "source": [
    "for i in range(len(json_name_dict)):\n",
    "    print(json_name_dict[str(i)].split('.json')[0])"
   ]
  },
  {
   "cell_type": "code",
   "execution_count": 24,
   "metadata": {},
   "outputs": [],
   "source": [
    "depth=2\n",
    "rootdir_arr = []\n",
    "rootdir = 'raw_sourcecode'\n",
    "for root, dirs, files in os.walk(rootdir):\n",
    "    if root.count(os.sep) == depth and project_name in str(root):\n",
    "        #print(root)\n",
    "        #dir_arr.append(root)\n",
    "        rootdir_arr.append(root)"
   ]
  },
  {
   "cell_type": "code",
   "execution_count": 25,
   "metadata": {},
   "outputs": [
    {
     "data": {
      "text/plain": [
       "['raw_sourcecode\\\\apache-isis\\\\apache-isis-1.10.0',\n",
       " 'raw_sourcecode\\\\apache-isis\\\\apache-isis-1.11.0',\n",
       " 'raw_sourcecode\\\\apache-isis\\\\apache-isis-1.11.1',\n",
       " 'raw_sourcecode\\\\apache-isis\\\\apache-isis-1.12.0',\n",
       " 'raw_sourcecode\\\\apache-isis\\\\apache-isis-1.12.1',\n",
       " 'raw_sourcecode\\\\apache-isis\\\\apache-isis-1.12.2',\n",
       " 'raw_sourcecode\\\\apache-isis\\\\apache-isis-1.13.0',\n",
       " 'raw_sourcecode\\\\apache-isis\\\\apache-isis-1.13.1',\n",
       " 'raw_sourcecode\\\\apache-isis\\\\apache-isis-1.13.2',\n",
       " 'raw_sourcecode\\\\apache-isis\\\\apache-isis-1.14.0',\n",
       " 'raw_sourcecode\\\\apache-isis\\\\apache-isis-1.15.0',\n",
       " 'raw_sourcecode\\\\apache-isis\\\\apache-isis-1.15.1',\n",
       " 'raw_sourcecode\\\\apache-isis\\\\apache-isis-1.16.0',\n",
       " 'raw_sourcecode\\\\apache-isis\\\\apache-isis-1.16.1',\n",
       " 'raw_sourcecode\\\\apache-isis\\\\apache-isis-1.16.2',\n",
       " 'raw_sourcecode\\\\apache-isis\\\\apache-isis-1.17.0',\n",
       " 'raw_sourcecode\\\\apache-isis\\\\apache-isis-1.6.0',\n",
       " 'raw_sourcecode\\\\apache-isis\\\\apache-isis-1.7.0',\n",
       " 'raw_sourcecode\\\\apache-isis\\\\apache-isis-1.8.0',\n",
       " 'raw_sourcecode\\\\apache-isis\\\\apache-isis-1.9.0',\n",
       " 'raw_sourcecode\\\\apache-isis\\\\apache-isis-2.0.0']"
      ]
     },
     "execution_count": 25,
     "metadata": {},
     "output_type": "execute_result"
    }
   ],
   "source": [
    "rootdir_arr"
   ]
  },
  {
   "cell_type": "code",
   "execution_count": 5,
   "metadata": {},
   "outputs": [],
   "source": [
    "root_dir = 'raw_sourcecode/' + project_name + '/'\n",
    "for i in range(10,20):\n",
    "    file1 = str(root_dir +json_name_dict[str(i)]).replace('.json', '') + '/'\n",
    "    for j in range(1,11):\n",
    "        file2 = str(root_dir + json_name_dict[str(i-j)]).replace('.json', '') + '/'\n",
    "        \n",
    "        #test = compare_similar()\n",
    "        #print(file1, file2)\n",
    "        if (j == 1):\n",
    "            prev_tmp = compare_similar(file1, file2)\n",
    "        else:\n",
    "            tmp = compare_similar(file1, file2)\n",
    "            tmp = common_member(prev_tmp, tmp)\n",
    "            #print(len(tmp))\n",
    "            prev_tmp = tmp\n",
    "            \n",
    "    if len(prev_tmp) > max_len_tmp:\n",
    "        max_len_tmp = len(prev_tmp)\n",
    "    #print(len(prev_tmp))\n",
    "    ground_truth_dict[str(i)] = prev_tmp"
   ]
  },
  {
   "cell_type": "code",
   "execution_count": 6,
   "metadata": {},
   "outputs": [
    {
     "data": {
      "text/plain": [
       "3504"
      ]
     },
     "execution_count": 6,
     "metadata": {},
     "output_type": "execute_result"
    }
   ],
   "source": [
    "max_len_tmp"
   ]
  },
  {
   "cell_type": "code",
   "execution_count": 18,
   "metadata": {},
   "outputs": [],
   "source": [
    "    \n",
    "f = open('project_list.txt', 'a')\n",
    "project_name = 'rzwitserloot-lombok'\n",
    "to_write = project_name + '\\n'\n",
    "f.write(to_write)\n",
    "f.close()"
   ]
  },
  {
   "cell_type": "code",
   "execution_count": 19,
   "metadata": {},
   "outputs": [],
   "source": [
    "df = pd.read_csv('Final_Results/apache-cassandra/apache-cassandra-apache-cassandra-3.2.1_class.csv')"
   ]
  },
  {
   "cell_type": "code",
   "execution_count": 20,
   "metadata": {},
   "outputs": [
    {
     "data": {
      "text/html": [
       "<div>\n",
       "<style scoped>\n",
       "    .dataframe tbody tr th:only-of-type {\n",
       "        vertical-align: middle;\n",
       "    }\n",
       "\n",
       "    .dataframe tbody tr th {\n",
       "        vertical-align: top;\n",
       "    }\n",
       "\n",
       "    .dataframe thead th {\n",
       "        text-align: right;\n",
       "    }\n",
       "</style>\n",
       "<table border=\"1\" class=\"dataframe\">\n",
       "  <thead>\n",
       "    <tr style=\"text-align: right;\">\n",
       "      <th></th>\n",
       "      <th>file</th>\n",
       "      <th>class</th>\n",
       "      <th>type</th>\n",
       "      <th>cbo</th>\n",
       "      <th>wmc</th>\n",
       "      <th>dit</th>\n",
       "      <th>rfc</th>\n",
       "      <th>lcom</th>\n",
       "      <th>totalMethods</th>\n",
       "      <th>staticMethods</th>\n",
       "      <th>...</th>\n",
       "      <th>numbersQty</th>\n",
       "      <th>assignmentsQty</th>\n",
       "      <th>mathOperationsQty</th>\n",
       "      <th>variablesQty</th>\n",
       "      <th>maxNestedBlocks</th>\n",
       "      <th>anonymousClassesQty</th>\n",
       "      <th>subClassesQty</th>\n",
       "      <th>lambdasQty</th>\n",
       "      <th>uniqueWordsQty</th>\n",
       "      <th>modifiers</th>\n",
       "    </tr>\n",
       "  </thead>\n",
       "  <tbody>\n",
       "    <tr>\n",
       "      <th>0</th>\n",
       "      <td>C:\\Users\\tanji\\Desktop\\FIT4003\\raw_sourcecode\\...</td>\n",
       "      <td>WordCount</td>\n",
       "      <td>class</td>\n",
       "      <td>21</td>\n",
       "      <td>16</td>\n",
       "      <td>6</td>\n",
       "      <td>32</td>\n",
       "      <td>1</td>\n",
       "      <td>2</td>\n",
       "      <td>1</td>\n",
       "      <td>...</td>\n",
       "      <td>15</td>\n",
       "      <td>22</td>\n",
       "      <td>3</td>\n",
       "      <td>16</td>\n",
       "      <td>2</td>\n",
       "      <td>0</td>\n",
       "      <td>4</td>\n",
       "      <td>0</td>\n",
       "      <td>118</td>\n",
       "      <td>1</td>\n",
       "    </tr>\n",
       "    <tr>\n",
       "      <th>1</th>\n",
       "      <td>C:\\Users\\tanji\\Desktop\\FIT4003\\raw_sourcecode\\...</td>\n",
       "      <td>WordCountCounters</td>\n",
       "      <td>class</td>\n",
       "      <td>18</td>\n",
       "      <td>7</td>\n",
       "      <td>5</td>\n",
       "      <td>23</td>\n",
       "      <td>1</td>\n",
       "      <td>2</td>\n",
       "      <td>1</td>\n",
       "      <td>...</td>\n",
       "      <td>6</td>\n",
       "      <td>8</td>\n",
       "      <td>1</td>\n",
       "      <td>7</td>\n",
       "      <td>1</td>\n",
       "      <td>0</td>\n",
       "      <td>3</td>\n",
       "      <td>0</td>\n",
       "      <td>91</td>\n",
       "      <td>1</td>\n",
       "    </tr>\n",
       "    <tr>\n",
       "      <th>2</th>\n",
       "      <td>C:\\Users\\tanji\\Desktop\\FIT4003\\raw_sourcecode\\...</td>\n",
       "      <td>WordCountSetup</td>\n",
       "      <td>class</td>\n",
       "      <td>13</td>\n",
       "      <td>15</td>\n",
       "      <td>1</td>\n",
       "      <td>28</td>\n",
       "      <td>15</td>\n",
       "      <td>7</td>\n",
       "      <td>7</td>\n",
       "      <td>...</td>\n",
       "      <td>9</td>\n",
       "      <td>19</td>\n",
       "      <td>10</td>\n",
       "      <td>18</td>\n",
       "      <td>2</td>\n",
       "      <td>0</td>\n",
       "      <td>0</td>\n",
       "      <td>0</td>\n",
       "      <td>110</td>\n",
       "      <td>1</td>\n",
       "    </tr>\n",
       "    <tr>\n",
       "      <th>3</th>\n",
       "      <td>C:\\Users\\tanji\\Desktop\\FIT4003\\raw_sourcecode\\...</td>\n",
       "      <td>org.apache.cassandra.triggers.AuditTrigger</td>\n",
       "      <td>class</td>\n",
       "      <td>12</td>\n",
       "      <td>3</td>\n",
       "      <td>1</td>\n",
       "      <td>17</td>\n",
       "      <td>0</td>\n",
       "      <td>2</td>\n",
       "      <td>1</td>\n",
       "      <td>...</td>\n",
       "      <td>0</td>\n",
       "      <td>6</td>\n",
       "      <td>0</td>\n",
       "      <td>6</td>\n",
       "      <td>1</td>\n",
       "      <td>0</td>\n",
       "      <td>0</td>\n",
       "      <td>0</td>\n",
       "      <td>21</td>\n",
       "      <td>1</td>\n",
       "    </tr>\n",
       "    <tr>\n",
       "      <th>4</th>\n",
       "      <td>C:\\Users\\tanji\\Desktop\\FIT4003\\raw_sourcecode\\...</td>\n",
       "      <td>org.apache.cassandra.thrift.AuthenticationExce...</td>\n",
       "      <td>class</td>\n",
       "      <td>17</td>\n",
       "      <td>60</td>\n",
       "      <td>4</td>\n",
       "      <td>32</td>\n",
       "      <td>267</td>\n",
       "      <td>30</td>\n",
       "      <td>3</td>\n",
       "      <td>...</td>\n",
       "      <td>7</td>\n",
       "      <td>25</td>\n",
       "      <td>2</td>\n",
       "      <td>17</td>\n",
       "      <td>2</td>\n",
       "      <td>0</td>\n",
       "      <td>4</td>\n",
       "      <td>0</td>\n",
       "      <td>136</td>\n",
       "      <td>1</td>\n",
       "    </tr>\n",
       "  </tbody>\n",
       "</table>\n",
       "<p>5 rows × 43 columns</p>\n",
       "</div>"
      ],
      "text/plain": [
       "                                                file  \\\n",
       "0  C:\\Users\\tanji\\Desktop\\FIT4003\\raw_sourcecode\\...   \n",
       "1  C:\\Users\\tanji\\Desktop\\FIT4003\\raw_sourcecode\\...   \n",
       "2  C:\\Users\\tanji\\Desktop\\FIT4003\\raw_sourcecode\\...   \n",
       "3  C:\\Users\\tanji\\Desktop\\FIT4003\\raw_sourcecode\\...   \n",
       "4  C:\\Users\\tanji\\Desktop\\FIT4003\\raw_sourcecode\\...   \n",
       "\n",
       "                                               class   type  cbo  wmc  dit  \\\n",
       "0                                          WordCount  class   21   16    6   \n",
       "1                                  WordCountCounters  class   18    7    5   \n",
       "2                                     WordCountSetup  class   13   15    1   \n",
       "3         org.apache.cassandra.triggers.AuditTrigger  class   12    3    1   \n",
       "4  org.apache.cassandra.thrift.AuthenticationExce...  class   17   60    4   \n",
       "\n",
       "   rfc  lcom  totalMethods  staticMethods  ...  numbersQty  assignmentsQty  \\\n",
       "0   32     1             2              1  ...          15              22   \n",
       "1   23     1             2              1  ...           6               8   \n",
       "2   28    15             7              7  ...           9              19   \n",
       "3   17     0             2              1  ...           0               6   \n",
       "4   32   267            30              3  ...           7              25   \n",
       "\n",
       "   mathOperationsQty  variablesQty  maxNestedBlocks  anonymousClassesQty  \\\n",
       "0                  3            16                2                    0   \n",
       "1                  1             7                1                    0   \n",
       "2                 10            18                2                    0   \n",
       "3                  0             6                1                    0   \n",
       "4                  2            17                2                    0   \n",
       "\n",
       "   subClassesQty  lambdasQty  uniqueWordsQty  modifiers  \n",
       "0              4           0             118          1  \n",
       "1              3           0              91          1  \n",
       "2              0           0             110          1  \n",
       "3              0           0              21          1  \n",
       "4              4           0             136          1  \n",
       "\n",
       "[5 rows x 43 columns]"
      ]
     },
     "execution_count": 20,
     "metadata": {},
     "output_type": "execute_result"
    }
   ],
   "source": [
    "df.head()"
   ]
  },
  {
   "cell_type": "code",
   "execution_count": 21,
   "metadata": {},
   "outputs": [],
   "source": [
    "test = df.sum()"
   ]
  },
  {
   "cell_type": "code",
   "execution_count": 22,
   "metadata": {},
   "outputs": [
    {
     "data": {
      "text/plain": [
       "file                    C:\\Users\\tanji\\Desktop\\FIT4003\\raw_sourcecode\\...\n",
       "class                   WordCountWordCountCountersWordCountSetuporg.ap...\n",
       "type                    classclassclassclassclassclassclassclassclassc...\n",
       "cbo                                                                 19845\n",
       "wmc                                                                 36640\n",
       "dit                                                                  3896\n",
       "rfc                                                                 39482\n",
       "lcom                                                               179293\n",
       "totalMethods                                                        17786\n",
       "staticMethods                                                        3506\n",
       "publicMethods                                                       13747\n",
       "privateMethods                                                       2422\n",
       "protectedMethods                                                      666\n",
       "defaultMethods                                                         21\n",
       "abstractMethods                                                       297\n",
       "finalMethods                                                           95\n",
       "synchronizedMethods                                                   140\n",
       "totalFields                                                          6412\n",
       "staticFields                                                         2720\n",
       "publicFields                                                         1925\n",
       "privateFields                                                        3598\n",
       "protectedFields                                                       381\n",
       "defaultFields                                                           0\n",
       "finalFields                                                          4809\n",
       "synchronizedFields                                                      0\n",
       "nosi                                                                27665\n",
       "loc                                                                322200\n",
       "returnQty                                                           12319\n",
       "loopQty                                                              4064\n",
       "comparisonsQty                                                       3513\n",
       "tryCatchQty                                                          1746\n",
       "parenthesizedExpsQty                                                 2577\n",
       "stringLiteralsQty                                                   31769\n",
       "numbersQty                                                          35383\n",
       "assignmentsQty                                                      31876\n",
       "mathOperationsQty                                                    7267\n",
       "variablesQty                                                        25686\n",
       "maxNestedBlocks                                                      1740\n",
       "anonymousClassesQty                                                   786\n",
       "subClassesQty                                                        1854\n",
       "lambdasQty                                                            430\n",
       "uniqueWordsQty                                                     149587\n",
       "modifiers                                                          174130\n",
       "dtype: object"
      ]
     },
     "execution_count": 22,
     "metadata": {},
     "output_type": "execute_result"
    }
   ],
   "source": [
    "test"
   ]
  },
  {
   "cell_type": "code",
   "execution_count": 24,
   "metadata": {},
   "outputs": [
    {
     "data": {
      "text/plain": [
       "Index(['file', 'class', 'type', 'cbo', 'wmc', 'dit', 'rfc', 'lcom',\n",
       "       'totalMethods', 'staticMethods', 'publicMethods', 'privateMethods',\n",
       "       'protectedMethods', 'defaultMethods', 'abstractMethods', 'finalMethods',\n",
       "       'synchronizedMethods', 'totalFields', 'staticFields', 'publicFields',\n",
       "       'privateFields', 'protectedFields', 'defaultFields', 'finalFields',\n",
       "       'synchronizedFields', 'nosi', 'loc', 'returnQty', 'loopQty',\n",
       "       'comparisonsQty', 'tryCatchQty', 'parenthesizedExpsQty',\n",
       "       'stringLiteralsQty', 'numbersQty', 'assignmentsQty',\n",
       "       'mathOperationsQty', 'variablesQty', 'maxNestedBlocks',\n",
       "       'anonymousClassesQty', 'subClassesQty', 'lambdasQty', 'uniqueWordsQty',\n",
       "       'modifiers'],\n",
       "      dtype='object')"
      ]
     },
     "execution_count": 24,
     "metadata": {},
     "output_type": "execute_result"
    }
   ],
   "source": [
    "df.columns"
   ]
  },
  {
   "cell_type": "code",
   "execution_count": 25,
   "metadata": {},
   "outputs": [
    {
     "data": {
      "text/plain": [
       "174130"
      ]
     },
     "execution_count": 25,
     "metadata": {},
     "output_type": "execute_result"
    }
   ],
   "source": [
    "test['modifiers']"
   ]
  },
  {
   "cell_type": "code",
   "execution_count": null,
   "metadata": {},
   "outputs": [],
   "source": []
  }
 ],
 "metadata": {
  "kernelspec": {
   "display_name": "Python 3",
   "language": "python",
   "name": "python3"
  },
  "language_info": {
   "codemirror_mode": {
    "name": "ipython",
    "version": 3
   },
   "file_extension": ".py",
   "mimetype": "text/x-python",
   "name": "python",
   "nbconvert_exporter": "python",
   "pygments_lexer": "ipython3",
   "version": "3.7.3"
  }
 },
 "nbformat": 4,
 "nbformat_minor": 2
}
