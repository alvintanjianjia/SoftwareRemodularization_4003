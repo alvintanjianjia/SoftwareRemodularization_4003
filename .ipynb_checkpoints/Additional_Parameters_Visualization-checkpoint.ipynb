{
 "cells": [
  {
   "cell_type": "code",
   "execution_count": 16,
   "metadata": {},
   "outputs": [],
   "source": [
    "import pandas as pd\n",
    "import matplotlib as plt\n",
    "%matplotlib inline"
   ]
  },
  {
   "cell_type": "code",
   "execution_count": 9,
   "metadata": {},
   "outputs": [
    {
     "data": {
      "text/html": [
       "<div>\n",
       "<style scoped>\n",
       "    .dataframe tbody tr th:only-of-type {\n",
       "        vertical-align: middle;\n",
       "    }\n",
       "\n",
       "    .dataframe tbody tr th {\n",
       "        vertical-align: top;\n",
       "    }\n",
       "\n",
       "    .dataframe thead th {\n",
       "        text-align: right;\n",
       "    }\n",
       "</style>\n",
       "<table border=\"1\" class=\"dataframe\">\n",
       "  <thead>\n",
       "    <tr style=\"text-align: right;\">\n",
       "      <th></th>\n",
       "      <th>name</th>\n",
       "      <th>Domain</th>\n",
       "      <th>Type</th>\n",
       "      <th>Organisation</th>\n",
       "    </tr>\n",
       "  </thead>\n",
       "  <tbody>\n",
       "    <tr>\n",
       "      <th>0</th>\n",
       "      <td>apache-storm</td>\n",
       "      <td>Data Analytics</td>\n",
       "      <td>Work</td>\n",
       "      <td>1</td>\n",
       "    </tr>\n",
       "    <tr>\n",
       "      <th>1</th>\n",
       "      <td>apache-cassandra</td>\n",
       "      <td>Database</td>\n",
       "      <td>Work</td>\n",
       "      <td>1</td>\n",
       "    </tr>\n",
       "    <tr>\n",
       "      <th>2</th>\n",
       "      <td>airbnb-lottie-android</td>\n",
       "      <td>Front-end</td>\n",
       "      <td>Fun</td>\n",
       "      <td>1</td>\n",
       "    </tr>\n",
       "    <tr>\n",
       "      <th>3</th>\n",
       "      <td>apache-isis</td>\n",
       "      <td>App Development</td>\n",
       "      <td>Work</td>\n",
       "      <td>1</td>\n",
       "    </tr>\n",
       "    <tr>\n",
       "      <th>4</th>\n",
       "      <td>apache-jmeter</td>\n",
       "      <td>Testing</td>\n",
       "      <td>Work</td>\n",
       "      <td>1</td>\n",
       "    </tr>\n",
       "  </tbody>\n",
       "</table>\n",
       "</div>"
      ],
      "text/plain": [
       "                    name           Domain  Type  Organisation\n",
       "0           apache-storm   Data Analytics  Work             1\n",
       "1       apache-cassandra         Database  Work             1\n",
       "2  airbnb-lottie-android        Front-end   Fun             1\n",
       "3            apache-isis  App Development  Work             1\n",
       "4          apache-jmeter          Testing  Work             1"
      ]
     },
     "execution_count": 9,
     "metadata": {},
     "output_type": "execute_result"
    }
   ],
   "source": [
    "main_df = pd.read_csv('parameters_graph_visualisation.csv')\n",
    "main_df['name'] = main_df['Projects']\n",
    "main_df = main_df[['name', 'Domain', 'Type', 'Organisation']]\n",
    "main_df.head()"
   ]
  },
  {
   "cell_type": "code",
   "execution_count": 10,
   "metadata": {},
   "outputs": [
    {
     "data": {
      "text/html": [
       "<div>\n",
       "<style scoped>\n",
       "    .dataframe tbody tr th:only-of-type {\n",
       "        vertical-align: middle;\n",
       "    }\n",
       "\n",
       "    .dataframe tbody tr th {\n",
       "        vertical-align: top;\n",
       "    }\n",
       "\n",
       "    .dataframe thead th {\n",
       "        text-align: right;\n",
       "    }\n",
       "</style>\n",
       "<table border=\"1\" class=\"dataframe\">\n",
       "  <thead>\n",
       "    <tr style=\"text-align: right;\">\n",
       "      <th></th>\n",
       "      <th>name</th>\n",
       "      <th>version</th>\n",
       "      <th>n_clusters</th>\n",
       "      <th>affinity</th>\n",
       "      <th>linkage</th>\n",
       "      <th>n_MoJo</th>\n",
       "      <th>mojoFM</th>\n",
       "    </tr>\n",
       "  </thead>\n",
       "  <tbody>\n",
       "    <tr>\n",
       "      <th>0</th>\n",
       "      <td>apache-storm</td>\n",
       "      <td>1.1.0</td>\n",
       "      <td>100</td>\n",
       "      <td>l2</td>\n",
       "      <td>single</td>\n",
       "      <td>1568</td>\n",
       "      <td>23.698297</td>\n",
       "    </tr>\n",
       "    <tr>\n",
       "      <th>1</th>\n",
       "      <td>apache-storm</td>\n",
       "      <td>1.1.1</td>\n",
       "      <td>50</td>\n",
       "      <td>euclidean</td>\n",
       "      <td>single</td>\n",
       "      <td>1574</td>\n",
       "      <td>23.406326</td>\n",
       "    </tr>\n",
       "    <tr>\n",
       "      <th>2</th>\n",
       "      <td>apache-storm</td>\n",
       "      <td>1.1.2</td>\n",
       "      <td>50</td>\n",
       "      <td>cosine</td>\n",
       "      <td>single</td>\n",
       "      <td>508</td>\n",
       "      <td>75.279805</td>\n",
       "    </tr>\n",
       "    <tr>\n",
       "      <th>3</th>\n",
       "      <td>apache-storm</td>\n",
       "      <td>1.1.3</td>\n",
       "      <td>50</td>\n",
       "      <td>cosine</td>\n",
       "      <td>single</td>\n",
       "      <td>511</td>\n",
       "      <td>75.133820</td>\n",
       "    </tr>\n",
       "    <tr>\n",
       "      <th>4</th>\n",
       "      <td>apache-storm</td>\n",
       "      <td>1.1.4</td>\n",
       "      <td>50</td>\n",
       "      <td>cosine</td>\n",
       "      <td>single</td>\n",
       "      <td>505</td>\n",
       "      <td>75.425791</td>\n",
       "    </tr>\n",
       "  </tbody>\n",
       "</table>\n",
       "</div>"
      ],
      "text/plain": [
       "           name version  n_clusters   affinity linkage  n_MoJo     mojoFM\n",
       "0  apache-storm   1.1.0         100         l2  single    1568  23.698297\n",
       "1  apache-storm   1.1.1          50  euclidean  single    1574  23.406326\n",
       "2  apache-storm   1.1.2          50     cosine  single     508  75.279805\n",
       "3  apache-storm   1.1.3          50     cosine  single     511  75.133820\n",
       "4  apache-storm   1.1.4          50     cosine  single     505  75.425791"
      ]
     },
     "execution_count": 10,
     "metadata": {},
     "output_type": "execute_result"
    }
   ],
   "source": [
    "clustering = pd.read_csv('clustering_result_30_ver.csv')\n",
    "clustering.head()"
   ]
  },
  {
   "cell_type": "code",
   "execution_count": 11,
   "metadata": {},
   "outputs": [
    {
     "data": {
      "text/html": [
       "<div>\n",
       "<style scoped>\n",
       "    .dataframe tbody tr th:only-of-type {\n",
       "        vertical-align: middle;\n",
       "    }\n",
       "\n",
       "    .dataframe tbody tr th {\n",
       "        vertical-align: top;\n",
       "    }\n",
       "\n",
       "    .dataframe thead th {\n",
       "        text-align: right;\n",
       "    }\n",
       "</style>\n",
       "<table border=\"1\" class=\"dataframe\">\n",
       "  <thead>\n",
       "    <tr style=\"text-align: right;\">\n",
       "      <th></th>\n",
       "      <th>name</th>\n",
       "      <th>version</th>\n",
       "      <th>n_clusters</th>\n",
       "      <th>affinity</th>\n",
       "      <th>linkage</th>\n",
       "      <th>n_MoJo</th>\n",
       "      <th>mojoFM</th>\n",
       "      <th>Domain</th>\n",
       "      <th>Type</th>\n",
       "      <th>Organisation</th>\n",
       "    </tr>\n",
       "  </thead>\n",
       "  <tbody>\n",
       "    <tr>\n",
       "      <th>0</th>\n",
       "      <td>apache-storm</td>\n",
       "      <td>1.1.0</td>\n",
       "      <td>100</td>\n",
       "      <td>l2</td>\n",
       "      <td>single</td>\n",
       "      <td>1568</td>\n",
       "      <td>23.698297</td>\n",
       "      <td>Data Analytics</td>\n",
       "      <td>Work</td>\n",
       "      <td>1</td>\n",
       "    </tr>\n",
       "    <tr>\n",
       "      <th>1</th>\n",
       "      <td>apache-storm</td>\n",
       "      <td>1.1.1</td>\n",
       "      <td>50</td>\n",
       "      <td>euclidean</td>\n",
       "      <td>single</td>\n",
       "      <td>1574</td>\n",
       "      <td>23.406326</td>\n",
       "      <td>Data Analytics</td>\n",
       "      <td>Work</td>\n",
       "      <td>1</td>\n",
       "    </tr>\n",
       "    <tr>\n",
       "      <th>2</th>\n",
       "      <td>apache-storm</td>\n",
       "      <td>1.1.2</td>\n",
       "      <td>50</td>\n",
       "      <td>cosine</td>\n",
       "      <td>single</td>\n",
       "      <td>508</td>\n",
       "      <td>75.279805</td>\n",
       "      <td>Data Analytics</td>\n",
       "      <td>Work</td>\n",
       "      <td>1</td>\n",
       "    </tr>\n",
       "    <tr>\n",
       "      <th>3</th>\n",
       "      <td>apache-storm</td>\n",
       "      <td>1.1.3</td>\n",
       "      <td>50</td>\n",
       "      <td>cosine</td>\n",
       "      <td>single</td>\n",
       "      <td>511</td>\n",
       "      <td>75.133820</td>\n",
       "      <td>Data Analytics</td>\n",
       "      <td>Work</td>\n",
       "      <td>1</td>\n",
       "    </tr>\n",
       "    <tr>\n",
       "      <th>4</th>\n",
       "      <td>apache-storm</td>\n",
       "      <td>1.1.4</td>\n",
       "      <td>50</td>\n",
       "      <td>cosine</td>\n",
       "      <td>single</td>\n",
       "      <td>505</td>\n",
       "      <td>75.425791</td>\n",
       "      <td>Data Analytics</td>\n",
       "      <td>Work</td>\n",
       "      <td>1</td>\n",
       "    </tr>\n",
       "  </tbody>\n",
       "</table>\n",
       "</div>"
      ],
      "text/plain": [
       "           name version  n_clusters   affinity linkage  n_MoJo     mojoFM  \\\n",
       "0  apache-storm   1.1.0         100         l2  single    1568  23.698297   \n",
       "1  apache-storm   1.1.1          50  euclidean  single    1574  23.406326   \n",
       "2  apache-storm   1.1.2          50     cosine  single     508  75.279805   \n",
       "3  apache-storm   1.1.3          50     cosine  single     511  75.133820   \n",
       "4  apache-storm   1.1.4          50     cosine  single     505  75.425791   \n",
       "\n",
       "           Domain  Type  Organisation  \n",
       "0  Data Analytics  Work             1  \n",
       "1  Data Analytics  Work             1  \n",
       "2  Data Analytics  Work             1  \n",
       "3  Data Analytics  Work             1  \n",
       "4  Data Analytics  Work             1  "
      ]
     },
     "execution_count": 11,
     "metadata": {},
     "output_type": "execute_result"
    }
   ],
   "source": [
    "clustering = pd.merge(clustering, main_df, on='name')\n",
    "clustering.head()"
   ]
  },
  {
   "cell_type": "code",
   "execution_count": 20,
   "metadata": {},
   "outputs": [
    {
     "data": {
      "text/plain": [
       "<matplotlib.axes._subplots.AxesSubplot at 0x1fdb9d49cc0>"
      ]
     },
     "execution_count": 20,
     "metadata": {},
     "output_type": "execute_result"
    },
    {
     "data": {
      "image/png": "[encoded data removed]",
      "text/plain": [
       "<Figure size 432x288 with 1 Axes>"
      ]
     },
     "metadata": {
      "needs_background": "light"
     },
     "output_type": "display_data"
    }
   ],
   "source": [
    "clustering_domain_mean = clustering.groupby('Domain')['mojoFM'].mean()\n",
    "clustering_domain_mean.plot.bar()"
   ]
  },
  {
   "cell_type": "code",
   "execution_count": 19,
   "metadata": {},
   "outputs": [
    {
     "data": {
      "text/plain": [
       "<matplotlib.axes._subplots.AxesSubplot at 0x1fdb9ccf8d0>"
      ]
     },
     "execution_count": 19,
     "metadata": {},
     "output_type": "execute_result"
    },
    {
     "data": {
      "image/png": "[encoded data removed]",
      "text/plain": [
       "<Figure size 432x288 with 1 Axes>"
      ]
     },
     "metadata": {
      "needs_background": "light"
     },
     "output_type": "display_data"
    }
   ],
   "source": [
    "test.plot.bar()"
   ]
  },
  {
   "cell_type": "code",
   "execution_count": null,
   "metadata": {},
   "outputs": [],
   "source": []
  },
  {
   "cell_type": "code",
   "execution_count": null,
   "metadata": {},
   "outputs": [],
   "source": []
  },
  {
   "cell_type": "code",
   "execution_count": null,
   "metadata": {},
   "outputs": [],
   "source": []
  },
  {
   "cell_type": "code",
   "execution_count": null,
   "metadata": {},
   "outputs": [],
   "source": []
  }
 ],
 "metadata": {
  "kernelspec": {
   "display_name": "Python 3",
   "language": "python",
   "name": "python3"
  },
  "language_info": {
   "codemirror_mode": {
    "name": "ipython",
    "version": 3
   },
   "file_extension": ".py",
   "mimetype": "text/x-python",
   "name": "python",
   "nbconvert_exporter": "python",
   "pygments_lexer": "ipython3",
   "version": "3.7.3"
  }
 },
 "nbformat": 4,
 "nbformat_minor": 2
}
