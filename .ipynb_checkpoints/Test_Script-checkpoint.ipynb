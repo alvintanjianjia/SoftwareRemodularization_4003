{
 "cells": [
  {
   "cell_type": "code",
   "execution_count": 2,
   "metadata": {},
   "outputs": [],
   "source": [
    "import json\n",
    "import pandas as pd\n",
    "import numpy as np\n",
    "import networkx as nx\n",
    "import jellyfish\n",
    "import os\n",
    "import shutil\n",
    "import subprocess\n",
    "from scipy.cluster.hierarchy import dendrogram, linkage\n",
    "from matplotlib import pyplot as plt\n",
    "from sklearn.feature_extraction.text import TfidfVectorizer\n",
    "from sklearn.cluster import KMeans\n",
    "from sklearn.metrics import adjusted_rand_score\n",
    "from sklearn import preprocessing\n",
    "from sklearn.cluster import AgglomerativeClustering\n",
    "from zipfile import ZipFile\n",
    "from filecmp import dircmp\n",
    "\n",
    "project_name = 'apache-isis'\n",
    "rootdir = 'raw_depends/' + project_name\n",
    "json_name_dict = {}\n",
    "json_result_dict = {}\n",
    "for root, dirs, files in os.walk(rootdir):\n",
    "   \n",
    "    #print(files)\n",
    "    for element in files:\n",
    "        \n",
    "        with open(rootdir + '/' + element) as f:\n",
    "            tmp = json.load(f)\n",
    "        \n",
    "        element = element.split('_')\n",
    "        json_name_dict[element[0]] = element[1]\n",
    "        json_result_dict[element[0]] = tmp"
   ]
  },
  {
   "cell_type": "code",
   "execution_count": 4,
   "metadata": {},
   "outputs": [
    {
     "data": {
      "text/plain": [
       "{'0': 'apache-isis-1.10.0.json',\n",
       " '10': 'apache-isis-1.15.0.json',\n",
       " '11': 'apache-isis-1.15.1.json',\n",
       " '12': 'apache-isis-1.16.0.json',\n",
       " '13': 'apache-isis-1.16.1.json',\n",
       " '14': 'apache-isis-1.16.2.json',\n",
       " '15': 'apache-isis-1.17.0.json',\n",
       " '16': 'apache-isis-1.6.0.json',\n",
       " '17': 'apache-isis-1.7.0.json',\n",
       " '18': 'apache-isis-1.8.0.json',\n",
       " '19': 'apache-isis-1.9.0.json',\n",
       " '1': 'apache-isis-1.11.0.json',\n",
       " '20': 'apache-isis-2.0.0.json',\n",
       " '2': 'apache-isis-1.11.1.json',\n",
       " '3': 'apache-isis-1.12.0.json',\n",
       " '4': 'apache-isis-1.12.1.json',\n",
       " '5': 'apache-isis-1.12.2.json',\n",
       " '6': 'apache-isis-1.13.0.json',\n",
       " '7': 'apache-isis-1.13.1.json',\n",
       " '8': 'apache-isis-1.13.2.json',\n",
       " '9': 'apache-isis-1.14.0.json'}"
      ]
     },
     "execution_count": 4,
     "metadata": {},
     "output_type": "execute_result"
    }
   ],
   "source": [
    "json_name_dict"
   ]
  },
  {
   "cell_type": "code",
   "execution_count": 4,
   "metadata": {},
   "outputs": [],
   "source": [
    "def common_member(a,b):\n",
    "    a_set = set(a)\n",
    "    b_set = set(b)\n",
    "    if len(a_set.intersection(b_set)) > 0:\n",
    "        return(a_set.intersection(b_set))\n",
    "    else:\n",
    "        return set()\n",
    "\n",
    "def compare_similar(right, left):\n",
    "    difference = list();\n",
    "    for root, dirs, files in os.walk(right):\n",
    "        for name in files:\n",
    "            path = os.path.join(root, name);\n",
    "            # check if file is same\n",
    "            if fileIsSame(right, left, path):\n",
    "                \n",
    "                if os.path.isdir(path):\n",
    "                    # recursively check subdirs\n",
    "                    difference.extend(compare_similar(path, left));\n",
    "                difference.append(path)\n",
    "                \n",
    "            #else:\n",
    "                # count file as difference\n",
    "                #difference.append(path);\n",
    "\n",
    "    return difference;\n",
    "\n",
    "def fileIsSame(right, left, path):\n",
    "    return os.path.exists (os.path.join(left, path.replace(right, '')));\n",
    "\n",
    "ground_truth_dict = {}\n",
    "max_len_tmp = 0\n",
    "root_dir = 'raw_sourcecode/' + project_name + '/'\n",
    "for i in range(10,20):\n",
    "    file1 = str(root_dir +json_name_dict[str(i)]).replace('.json', '') + '/'\n",
    "    for j in range(1,11):\n",
    "        file2 = str(root_dir + json_name_dict[str(i-j)]).replace('.json', '') + '/'\n",
    "        \n",
    "        #test = compare_similar()\n",
    "        #print(file1, file2)\n",
    "        if (j == 1):\n",
    "            prev_tmp = compare_similar(file1, file2)\n",
    "        else:\n",
    "            tmp = compare_similar(file1, file2)\n",
    "            tmp = common_member(prev_tmp, tmp)\n",
    "            #print(len(tmp))\n",
    "            prev_tmp = tmp\n",
    "            \n",
    "    if len(prev_tmp) > max_len_tmp:\n",
    "        max_len_tmp = len(prev_tmp)\n",
    "    #print(len(prev_tmp))\n",
    "    ground_truth_dict[str(i)] = prev_tmp"
   ]
  },
  {
   "cell_type": "code",
   "execution_count": 10,
   "metadata": {},
   "outputs": [
    {
     "data": {
      "text/plain": [
       "10"
      ]
     },
     "execution_count": 10,
     "metadata": {},
     "output_type": "execute_result"
    }
   ],
   "source": [
    "len(ground_truth_dict)"
   ]
  },
  {
   "cell_type": "code",
   "execution_count": 16,
   "metadata": {},
   "outputs": [
    {
     "name": "stdout",
     "output_type": "stream",
     "text": [
      "apache-isis-1.15.0\n",
      "apache-isis-1.15.1\n",
      "apache-isis-1.16.0\n",
      "apache-isis-1.16.1\n",
      "apache-isis-1.16.2\n",
      "apache-isis-1.17.0\n",
      "apache-isis-1.6.0\n",
      "apache-isis-1.7.0\n",
      "apache-isis-1.8.0\n",
      "apache-isis-1.9.0\n"
     ]
    }
   ],
   "source": [
    "for i in range(10):\n",
    "    print(json_name_dict[str(i+10)].split('.json')[0])"
   ]
  },
  {
   "cell_type": "code",
   "execution_count": 14,
   "metadata": {},
   "outputs": [
    {
     "name": "stdout",
     "output_type": "stream",
     "text": [
      "apache-isis-1.10.0\n",
      "apache-isis-1.11.0\n",
      "apache-isis-1.11.1\n",
      "apache-isis-1.12.0\n",
      "apache-isis-1.12.1\n",
      "apache-isis-1.12.2\n",
      "apache-isis-1.13.0\n",
      "apache-isis-1.13.1\n",
      "apache-isis-1.13.2\n",
      "apache-isis-1.14.0\n",
      "apache-isis-1.15.0\n",
      "apache-isis-1.15.1\n",
      "apache-isis-1.16.0\n",
      "apache-isis-1.16.1\n",
      "apache-isis-1.16.2\n",
      "apache-isis-1.17.0\n",
      "apache-isis-1.6.0\n",
      "apache-isis-1.7.0\n",
      "apache-isis-1.8.0\n",
      "apache-isis-1.9.0\n",
      "apache-isis-2.0.0\n"
     ]
    }
   ],
   "source": [
    "for i in range(len(json_name_dict)):\n",
    "    print(json_name_dict[str(i)].split('.json')[0])"
   ]
  },
  {
   "cell_type": "code",
   "execution_count": 24,
   "metadata": {},
   "outputs": [],
   "source": [
    "depth=2\n",
    "rootdir_arr = []\n",
    "rootdir = 'raw_sourcecode'\n",
    "for root, dirs, files in os.walk(rootdir):\n",
    "    if root.count(os.sep) == depth and project_name in str(root):\n",
    "        #print(root)\n",
    "        #dir_arr.append(root)\n",
    "        rootdir_arr.append(root)"
   ]
  },
  {
   "cell_type": "code",
   "execution_count": 25,
   "metadata": {},
   "outputs": [
    {
     "data": {
      "text/plain": [
       "['raw_sourcecode\\\\apache-isis\\\\apache-isis-1.10.0',\n",
       " 'raw_sourcecode\\\\apache-isis\\\\apache-isis-1.11.0',\n",
       " 'raw_sourcecode\\\\apache-isis\\\\apache-isis-1.11.1',\n",
       " 'raw_sourcecode\\\\apache-isis\\\\apache-isis-1.12.0',\n",
       " 'raw_sourcecode\\\\apache-isis\\\\apache-isis-1.12.1',\n",
       " 'raw_sourcecode\\\\apache-isis\\\\apache-isis-1.12.2',\n",
       " 'raw_sourcecode\\\\apache-isis\\\\apache-isis-1.13.0',\n",
       " 'raw_sourcecode\\\\apache-isis\\\\apache-isis-1.13.1',\n",
       " 'raw_sourcecode\\\\apache-isis\\\\apache-isis-1.13.2',\n",
       " 'raw_sourcecode\\\\apache-isis\\\\apache-isis-1.14.0',\n",
       " 'raw_sourcecode\\\\apache-isis\\\\apache-isis-1.15.0',\n",
       " 'raw_sourcecode\\\\apache-isis\\\\apache-isis-1.15.1',\n",
       " 'raw_sourcecode\\\\apache-isis\\\\apache-isis-1.16.0',\n",
       " 'raw_sourcecode\\\\apache-isis\\\\apache-isis-1.16.1',\n",
       " 'raw_sourcecode\\\\apache-isis\\\\apache-isis-1.16.2',\n",
       " 'raw_sourcecode\\\\apache-isis\\\\apache-isis-1.17.0',\n",
       " 'raw_sourcecode\\\\apache-isis\\\\apache-isis-1.6.0',\n",
       " 'raw_sourcecode\\\\apache-isis\\\\apache-isis-1.7.0',\n",
       " 'raw_sourcecode\\\\apache-isis\\\\apache-isis-1.8.0',\n",
       " 'raw_sourcecode\\\\apache-isis\\\\apache-isis-1.9.0',\n",
       " 'raw_sourcecode\\\\apache-isis\\\\apache-isis-2.0.0']"
      ]
     },
     "execution_count": 25,
     "metadata": {},
     "output_type": "execute_result"
    }
   ],
   "source": [
    "rootdir_arr"
   ]
  },
  {
   "cell_type": "code",
   "execution_count": 5,
   "metadata": {},
   "outputs": [],
   "source": [
    "root_dir = 'raw_sourcecode/' + project_name + '/'\n",
    "for i in range(10,20):\n",
    "    file1 = str(root_dir +json_name_dict[str(i)]).replace('.json', '') + '/'\n",
    "    for j in range(1,11):\n",
    "        file2 = str(root_dir + json_name_dict[str(i-j)]).replace('.json', '') + '/'\n",
    "        \n",
    "        #test = compare_similar()\n",
    "        #print(file1, file2)\n",
    "        if (j == 1):\n",
    "            prev_tmp = compare_similar(file1, file2)\n",
    "        else:\n",
    "            tmp = compare_similar(file1, file2)\n",
    "            tmp = common_member(prev_tmp, tmp)\n",
    "            #print(len(tmp))\n",
    "            prev_tmp = tmp\n",
    "            \n",
    "    if len(prev_tmp) > max_len_tmp:\n",
    "        max_len_tmp = len(prev_tmp)\n",
    "    #print(len(prev_tmp))\n",
    "    ground_truth_dict[str(i)] = prev_tmp"
   ]
  },
  {
   "cell_type": "code",
   "execution_count": 6,
   "metadata": {},
   "outputs": [
    {
     "data": {
      "text/plain": [
       "3504"
      ]
     },
     "execution_count": 6,
     "metadata": {},
     "output_type": "execute_result"
    }
   ],
   "source": [
    "max_len_tmp"
   ]
  },
  {
   "cell_type": "code",
   "execution_count": null,
   "metadata": {},
   "outputs": [],
   "source": []
  }
 ],
 "metadata": {
  "kernelspec": {
   "display_name": "Python 3",
   "language": "python",
   "name": "python3"
  },
  "language_info": {
   "codemirror_mode": {
    "name": "ipython",
    "version": 3
   },
   "file_extension": ".py",
   "mimetype": "text/x-python",
   "name": "python",
   "nbconvert_exporter": "python",
   "pygments_lexer": "ipython3",
   "version": "3.7.3"
  }
 },
 "nbformat": 4,
 "nbformat_minor": 2
}
