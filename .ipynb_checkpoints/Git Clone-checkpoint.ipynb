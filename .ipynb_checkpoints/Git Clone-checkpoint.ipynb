{
 "cells": [
  {
   "cell_type": "code",
   "execution_count": 2,
   "metadata": {},
   "outputs": [],
   "source": [
    "import pandas as pd\n",
    "import os"
   ]
  },
  {
   "cell_type": "code",
   "execution_count": 3,
   "metadata": {},
   "outputs": [
    {
     "data": {
      "text/plain": [
       "'C:\\\\Users\\\\tanji\\\\Desktop\\\\FIT4003'"
      ]
     },
     "execution_count": 3,
     "metadata": {},
     "output_type": "execute_result"
    }
   ],
   "source": [
    "pwd"
   ]
  },
  {
   "cell_type": "code",
   "execution_count": 4,
   "metadata": {},
   "outputs": [
    {
     "data": {
      "text/html": [
       "<div>\n",
       "<style scoped>\n",
       "    .dataframe tbody tr th:only-of-type {\n",
       "        vertical-align: middle;\n",
       "    }\n",
       "\n",
       "    .dataframe tbody tr th {\n",
       "        vertical-align: top;\n",
       "    }\n",
       "\n",
       "    .dataframe thead th {\n",
       "        text-align: right;\n",
       "    }\n",
       "</style>\n",
       "<table border=\"1\" class=\"dataframe\">\n",
       "  <thead>\n",
       "    <tr style=\"text-align: right;\">\n",
       "      <th></th>\n",
       "      <th>release_tag</th>\n",
       "      <th>version_name</th>\n",
       "    </tr>\n",
       "  </thead>\n",
       "  <tbody>\n",
       "    <tr>\n",
       "      <th>0</th>\n",
       "      <td>7955b39</td>\n",
       "      <td>2.4.4</td>\n",
       "    </tr>\n",
       "    <tr>\n",
       "      <th>1</th>\n",
       "      <td>c3e32bf</td>\n",
       "      <td>2.4.3</td>\n",
       "    </tr>\n",
       "    <tr>\n",
       "      <th>2</th>\n",
       "      <td>a44880b</td>\n",
       "      <td>2.4.2</td>\n",
       "    </tr>\n",
       "    <tr>\n",
       "      <th>3</th>\n",
       "      <td>5830101</td>\n",
       "      <td>2.4.1</td>\n",
       "    </tr>\n",
       "    <tr>\n",
       "      <th>4</th>\n",
       "      <td>0a4c03f</td>\n",
       "      <td>2.4.0</td>\n",
       "    </tr>\n",
       "  </tbody>\n",
       "</table>\n",
       "</div>"
      ],
      "text/plain": [
       "  release_tag version_name\n",
       "0     7955b39        2.4.4\n",
       "1     c3e32bf        2.4.3\n",
       "2     a44880b        2.4.2\n",
       "3     5830101        2.4.1\n",
       "4     0a4c03f        2.4.0"
      ]
     },
     "execution_count": 4,
     "metadata": {},
     "output_type": "execute_result"
    }
   ],
   "source": [
    "ver = pd.read_csv('apache_spark.csv', encoding='ISO-8859-1')\n",
    "ver.head()"
   ]
  },
  {
   "cell_type": "code",
   "execution_count": 7,
   "metadata": {
    "scrolled": true
   },
   "outputs": [
    {
     "name": "stdout",
     "output_type": "stream",
     "text": [
      "cd C:/Users/tanji/Desktop/FIT4003/raw_sourcecode/apache-spark & mkdir spark-2.4.4\n",
      "git clone https://github.com/apache/spark C:/Users/tanji/Desktop/FIT4003/raw_sourcecode/apache-spark/spark-2.4.4\n",
      "cd C:/Users/tanji/Desktop/FIT4003/raw_sourcecode/spark-2.4.4 git checkout 7955b39\n",
      "cd C:/Users/tanji/Desktop/FIT4003/raw_sourcecode/apache-spark & mkdir spark-2.4.3\n",
      "git clone https://github.com/apache/spark C:/Users/tanji/Desktop/FIT4003/raw_sourcecode/apache-spark/spark-2.4.3\n",
      "cd C:/Users/tanji/Desktop/FIT4003/raw_sourcecode/spark-2.4.3 git checkout c3e32bf\n",
      "cd C:/Users/tanji/Desktop/FIT4003/raw_sourcecode/apache-spark & mkdir spark-2.4.2\n",
      "git clone https://github.com/apache/spark C:/Users/tanji/Desktop/FIT4003/raw_sourcecode/apache-spark/spark-2.4.2\n",
      "cd C:/Users/tanji/Desktop/FIT4003/raw_sourcecode/spark-2.4.2 git checkout a44880b\n",
      "cd C:/Users/tanji/Desktop/FIT4003/raw_sourcecode/apache-spark & mkdir spark-2.4.1\n",
      "git clone https://github.com/apache/spark C:/Users/tanji/Desktop/FIT4003/raw_sourcecode/apache-spark/spark-2.4.1\n",
      "cd C:/Users/tanji/Desktop/FIT4003/raw_sourcecode/spark-2.4.1 git checkout 5830101\n",
      "cd C:/Users/tanji/Desktop/FIT4003/raw_sourcecode/apache-spark & mkdir spark-2.4.0\n",
      "git clone https://github.com/apache/spark C:/Users/tanji/Desktop/FIT4003/raw_sourcecode/apache-spark/spark-2.4.0\n",
      "cd C:/Users/tanji/Desktop/FIT4003/raw_sourcecode/spark-2.4.0 git checkout 0a4c03f\n",
      "cd C:/Users/tanji/Desktop/FIT4003/raw_sourcecode/apache-spark & mkdir spark-2.3.4\n",
      "git clone https://github.com/apache/spark C:/Users/tanji/Desktop/FIT4003/raw_sourcecode/apache-spark/spark-2.3.4\n",
      "cd C:/Users/tanji/Desktop/FIT4003/raw_sourcecode/spark-2.3.4 git checkout 8c6f815\n",
      "cd C:/Users/tanji/Desktop/FIT4003/raw_sourcecode/apache-spark & mkdir spark-2.3.3\n",
      "git clone https://github.com/apache/spark C:/Users/tanji/Desktop/FIT4003/raw_sourcecode/apache-spark/spark-2.3.3\n",
      "cd C:/Users/tanji/Desktop/FIT4003/raw_sourcecode/spark-2.3.3 git checkout 66fd9c3\n",
      "cd C:/Users/tanji/Desktop/FIT4003/raw_sourcecode/apache-spark & mkdir spark-2.3.2\n",
      "git clone https://github.com/apache/spark C:/Users/tanji/Desktop/FIT4003/raw_sourcecode/apache-spark/spark-2.3.2\n",
      "cd C:/Users/tanji/Desktop/FIT4003/raw_sourcecode/spark-2.3.2 git checkout 02b5107\n",
      "cd C:/Users/tanji/Desktop/FIT4003/raw_sourcecode/apache-spark & mkdir spark-2.3.1\n",
      "git clone https://github.com/apache/spark C:/Users/tanji/Desktop/FIT4003/raw_sourcecode/apache-spark/spark-2.3.1\n",
      "cd C:/Users/tanji/Desktop/FIT4003/raw_sourcecode/spark-2.3.1 git checkout 30aaa5a\n",
      "cd C:/Users/tanji/Desktop/FIT4003/raw_sourcecode/apache-spark & mkdir spark-2.3.0\n",
      "git clone https://github.com/apache/spark C:/Users/tanji/Desktop/FIT4003/raw_sourcecode/apache-spark/spark-2.3.0\n",
      "cd C:/Users/tanji/Desktop/FIT4003/raw_sourcecode/spark-2.3.0 git checkout 992447f\n",
      "cd C:/Users/tanji/Desktop/FIT4003/raw_sourcecode/apache-spark & mkdir spark-2.2.3\n",
      "git clone https://github.com/apache/spark C:/Users/tanji/Desktop/FIT4003/raw_sourcecode/apache-spark/spark-2.2.3\n",
      "cd C:/Users/tanji/Desktop/FIT4003/raw_sourcecode/spark-2.2.3 git checkout 4acb6ba\n",
      "cd C:/Users/tanji/Desktop/FIT4003/raw_sourcecode/apache-spark & mkdir spark-2.2.2\n",
      "git clone https://github.com/apache/spark C:/Users/tanji/Desktop/FIT4003/raw_sourcecode/apache-spark/spark-2.2.2\n",
      "cd C:/Users/tanji/Desktop/FIT4003/raw_sourcecode/spark-2.2.2 git checkout fc28ba3\n",
      "cd C:/Users/tanji/Desktop/FIT4003/raw_sourcecode/apache-spark & mkdir spark-2.2.1\n",
      "git clone https://github.com/apache/spark C:/Users/tanji/Desktop/FIT4003/raw_sourcecode/apache-spark/spark-2.2.1\n",
      "cd C:/Users/tanji/Desktop/FIT4003/raw_sourcecode/spark-2.2.1 git checkout e30e269\n",
      "cd C:/Users/tanji/Desktop/FIT4003/raw_sourcecode/apache-spark & mkdir spark-2.2.0\n",
      "git clone https://github.com/apache/spark C:/Users/tanji/Desktop/FIT4003/raw_sourcecode/apache-spark/spark-2.2.0\n",
      "cd C:/Users/tanji/Desktop/FIT4003/raw_sourcecode/spark-2.2.0 git checkout a2c7b21\n",
      "cd C:/Users/tanji/Desktop/FIT4003/raw_sourcecode/apache-spark & mkdir spark-2.1.3\n",
      "git clone https://github.com/apache/spark C:/Users/tanji/Desktop/FIT4003/raw_sourcecode/apache-spark/spark-2.1.3\n",
      "cd C:/Users/tanji/Desktop/FIT4003/raw_sourcecode/spark-2.1.3 git checkout b7eac07\n"
     ]
    }
   ],
   "source": [
    "release_arr = []\n",
    "project_main_name = 'apache-spark'\n",
    "\n",
    "os.mkdir('C:/Users/tanji/Desktop/FIT4003/raw_sourcecode/' + project_main_name)\n",
    "project_name = 'spark-'\n",
    "for index, row in ver.iterrows():\n",
    "    #print(index)\n",
    "    #print('lol')\n",
    "    #print(row['release_tag'])\n",
    "    release_arr.append((row['release_tag'], row['version_name']))\n",
    "\n",
    "for element in release_arr:\n",
    "    command = 'cd C:/Users/tanji/Desktop/FIT4003/raw_sourcecode/' + project_main_name + ' & mkdir ' + project_name + element[1]\n",
    "    print(command)\n",
    "    os.system(command)\n",
    "    \n",
    "    command = 'git clone https://github.com/apache/spark ' +  'C:/Users/tanji/Desktop/FIT4003/raw_sourcecode/' +project_main_name + '/' + project_name + element[1]\n",
    "    print(command)\n",
    "    os.system(command)\n",
    "    \n",
    "    command = 'cd C:/Users/tanji/Desktop/FIT4003/raw_sourcecode/' + project_name + element[1] + ' git checkout ' + element[0]\n",
    "    print(command)\n",
    "    os.system(command)\n",
    "    "
   ]
  },
  {
   "cell_type": "code",
   "execution_count": null,
   "metadata": {},
   "outputs": [],
   "source": [
    "release_arr"
   ]
  },
  {
   "cell_type": "code",
   "execution_count": null,
   "metadata": {},
   "outputs": [],
   "source": []
  }
 ],
 "metadata": {
  "kernelspec": {
   "display_name": "Python 3",
   "language": "python",
   "name": "python3"
  },
  "language_info": {
   "codemirror_mode": {
    "name": "ipython",
    "version": 3
   },
   "file_extension": ".py",
   "mimetype": "text/x-python",
   "name": "python",
   "nbconvert_exporter": "python",
   "pygments_lexer": "ipython3",
   "version": "3.7.3"
  }
 },
 "nbformat": 4,
 "nbformat_minor": 2
}
